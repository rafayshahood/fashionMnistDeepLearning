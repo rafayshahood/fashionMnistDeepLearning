{
 "cells": [
  {
   "cell_type": "markdown",
   "metadata": {},
   "source": [
    "<h1 align = \"center\"> Deep Learning Project </h1>"
   ]
  },
  {
   "cell_type": "markdown",
   "metadata": {},
   "source": [
    "### Defining the problem and assembling a dataset"
   ]
  },
  {
   "cell_type": "markdown",
   "metadata": {},
   "source": [
    "#### Input Data Description:\n",
    "\n",
    "We will be using the fashion_mnist dataset which is a part of tensor flow datasets. The dataset has around 70,000 images that are grey-scale and 70,000 labels that describe each image. 60,000 images and labels are used for training purposes and 10,000 images and labels are to be used for testing purposes.\n",
    "\n",
    "##### Images:\n",
    "Images are gray-scale images with 28 * 28 pixels resolution. Each pixel falls in a range from 0-255 and is an integer.\n",
    "\n",
    "##### Labels:\n",
    "There are 10 total labels from which a single one defines a images. All the labels as mentioned on the dataset github documentation on the following link https://github.com/zalandoresearch/fashion-mnist are:\n",
    "Labels\n",
    "Each training and test example is assigned to one of the following labels:\n",
    "   \n",
    "\n",
    "|Label\t| Description |\n",
    "| :----:| :----:      |\n",
    "|0\t    | T-shirt/top |\n",
    "|1\t    | Trouser |\n",
    "|2\t    | Pullover |\n",
    "|3\t    | Dress |\n",
    "|4\t    | Coat |\n",
    "|5\t    | Sandal |\n",
    "|6\t    | Shirt |\n",
    "|7\t    | Sneaker |\n",
    "|8\t    | Bag |\n",
    "|9\t    | Ankle boot |\n",
    "\n",
    "\n",
    "\n",
    "##### Example of a images and label:\n",
    "The dataset consists of fashion related stuff so it has images and appropriate label. An image can have a single label from any of the 10 labels so the images and labels have a one-to-one correspondence. Labels in this dataset are e.g the image of a trouser has a label trouser. \n",
    "\n",
    "The dataset has:\n",
    "Download size of 29.45 MiB\n",
    "Dataset size: 36.42 MiB\n",
    "\n",
    "As mentioned on its official documentation. To  know futher about the dataset visit the link: https://www.tensorflow.org/datasets/catalog/fashion_mnist\n",
    "\n",
    "\n",
    "##### Problems:\n",
    "This is a multi-class classification,single label problem which a type of supervised-learning. There are grey-scale images of fashion and clothing related products that can have a single label from 10 possible labels(classes) which are alos fashion related. The problem is to select the most appropriate label for an unseen image. This is a kind of stationary problem as a products categories does not change over time e.g if there is an image of a shirt it will have the class: T-Shirt which won't change over time, or over any other pattern.\n",
    "We've around 60,000 images and labels for training and 10,000 images and labels for testing purposes. It's considerabely good amount of data. \n",
    "\n",
    "##### Goals of the Project:\n",
    "<ul>\n",
    "<li>The goal of the project is to create a model that has great accuracy in identifying labels for unseen images. So e.g the model is preprared and an multiple unseen images are given, it should have a high accuracy in identifying which class each image belongs to.\n",
    "</li>\n",
    "<li>\n",
    "To train the model we will feed in the training data that has 60,000 images and training labels that are also 60,000. Based on this we will train create and train this model. Next we will test the model on the unseen 10,000 images from the testing data. This way we will make sure how our model performs on unseen data.\n",
    "</li>\n",
    "<li>Once we get predicted labels from our model we will match them in an appropriate way with the testing labels to see how has our model performed on unseen data. If the parameter that we have set to check how our model has performaed is low we can update the model to make some changes in order to improve the model and get better results.</li>\n",
    "\n",
    "</ul>\n"
   ]
  },
  {
   "cell_type": "markdown",
   "metadata": {},
   "source": [
    "### Choosing a measure of success"
   ]
  },
  {
   "cell_type": "markdown",
   "metadata": {},
   "source": [
    "Since the problem we are dealing here is multi-class single label classification we can consider using accuracy or precision and recall as the measure of success. We can only deciding it by finding out if all the samples in our data are distrbuted equally among all the class. If there the class are equally distributed we will be choosing accuracy as our measure of succes, if classes are imbalanced we will be choosing precision and recall. Let's check how the samples in the dataset are distributed."
   ]
  },
  {
   "cell_type": "markdown",
   "metadata": {},
   "source": [
    "<div class=\"alert alert-block alert-info\">\n",
    "First lets import the dataset to our notebook. The dataset is present in tensor flow datasets importing it is very simple. \n",
    "Next the dataset will return four numpy lists for trainng images, training labels, testing images, testing labels. We have to store them properly\n",
    "</div>"
   ]
  },
  {
   "cell_type": "code",
   "execution_count": 26,
   "metadata": {
    "scrolled": true
   },
   "outputs": [],
   "source": [
    "#The code below is taken from course content and adapted for my own use\n",
    "\n",
    "#Importing the dataset from tensorflow datasets to use for multi class classification\n",
    "from tensorflow.keras.datasets import fashion_mnist\n",
    "#storing the data in separate variables for training images, training labels, testing images and testing labels \n",
    "(trainingImages, trainingLabels,), (testingImages, testingLabels) = fashion_mnist.load_data()\n",
    "\n",
    "#The code ends here"
   ]
  },
  {
   "cell_type": "markdown",
   "metadata": {},
   "source": [
    "<div class=\"alert alert-block alert-success\">\n",
    "The dataset is successfuly imported and stored in appropriate variables\n",
    "</div"
   ]
  },
  {
   "cell_type": "markdown",
   "metadata": {},
   "source": [
    "<div class=\"alert alert-block alert-info\">\n",
    "Next we need to  find out how many classes are in the dataset and how are they distributed. We'll be follwing a modular approach for it and create a function, so we don't need to write the entire code again if we need to again check classes in the upcoming sections\n",
    "</div"
   ]
  },
  {
   "cell_type": "code",
   "execution_count": 27,
   "metadata": {},
   "outputs": [],
   "source": [
    "#The code in below cells is originally written by me"
   ]
  },
  {
   "cell_type": "code",
   "execution_count": 28,
   "metadata": {},
   "outputs": [],
   "source": [
    "#importing the numpy library\n",
    "import numpy as np\n",
    "\n",
    "def getClassDistrbituion(data, trainingLabels):\n",
    "    '''\n",
    "    Finds out and prints how classes are distributed over a dataset\n",
    "    \n",
    "    parameters: \n",
    "    \n",
    "    data: It is the labels for the training or the testing part of a datasets\n",
    "    \n",
    "    trainingLabels: If true means the it is part of training labels, if false means it is part of testing labels\n",
    "    \n",
    "    output: prints how classes are distributed over the data\n",
    "    \n",
    "    '''\n",
    "    \n",
    "    #Based on the boolean value of the parameter set the value of a variable that will be used in printing statements\n",
    "    if trainingLabels:\n",
    "        dataSplit = 'Training'\n",
    "    elif trainingLabels == False:\n",
    "        dataSplit = 'Testing'\n",
    "        \n",
    "    #get total number of unique classes in data\n",
    "    totTrainClasses = len(np.unique(data))\n",
    "\n",
    "\n",
    "    #print total number of unique classes in data\n",
    "    print(\"\\033[1;36m \\nTotal number of classes in {} data are: {}\".format(dataSplit,totTrainClasses))\n",
    "\n",
    "\n",
    "    #Get tot instances of each unique label in data\n",
    "    uniqueLabels, count = np.unique(data, return_counts=True)\n",
    "\n",
    "    #store the unique label and its instances as key-value pairs in a dictionary\n",
    "    labelInstances = dict(zip(uniqueLabels, count))\n",
    "\n",
    "    print(\"\\033[1;31m\\n Each class has instances:\") \n",
    "\n",
    "    # loop over the dictionary \n",
    "    for uniqueLabels, count in labelInstances.items():\n",
    "        #print label and its total count\n",
    "        print(\"\\033[1;31m {} : {}\".format(uniqueLabels, count))"
   ]
  },
  {
   "cell_type": "markdown",
   "metadata": {},
   "source": [
    "<div class=\"alert alert-block alert-info\">\n",
    "The function is created, lets run it in next cell to see our output</div "
   ]
  },
  {
   "cell_type": "code",
   "execution_count": 29,
   "metadata": {},
   "outputs": [
    {
     "name": "stdout",
     "output_type": "stream",
     "text": [
      "\u001b[1;36m \n",
      "Total number of classes in Training data are: 10\n",
      "\u001b[1;31m\n",
      " Each class has instances:\n",
      "\u001b[1;31m 0 : 6000\n",
      "\u001b[1;31m 1 : 6000\n",
      "\u001b[1;31m 2 : 6000\n",
      "\u001b[1;31m 3 : 6000\n",
      "\u001b[1;31m 4 : 6000\n",
      "\u001b[1;31m 5 : 6000\n",
      "\u001b[1;31m 6 : 6000\n",
      "\u001b[1;31m 7 : 6000\n",
      "\u001b[1;31m 8 : 6000\n",
      "\u001b[1;31m 9 : 6000\n",
      "\u001b[1;36m \n",
      "Total number of classes in Testing data are: 10\n",
      "\u001b[1;31m\n",
      " Each class has instances:\n",
      "\u001b[1;31m 0 : 1000\n",
      "\u001b[1;31m 1 : 1000\n",
      "\u001b[1;31m 2 : 1000\n",
      "\u001b[1;31m 3 : 1000\n",
      "\u001b[1;31m 4 : 1000\n",
      "\u001b[1;31m 5 : 1000\n",
      "\u001b[1;31m 6 : 1000\n",
      "\u001b[1;31m 7 : 1000\n",
      "\u001b[1;31m 8 : 1000\n",
      "\u001b[1;31m 9 : 1000\n"
     ]
    }
   ],
   "source": [
    "#function call to check and display how classes are distributed over training labels\n",
    "getClassDistrbituion(trainingLabels, trainingLabels = True)\n",
    "#function call to check and display how classes are distributed over testing labels\n",
    "getClassDistrbituion(testingLabels, trainingLabels = False)"
   ]
  },
  {
   "cell_type": "markdown",
   "metadata": {},
   "source": [
    "<div class=\"alert alert-block alert-success\">\n",
    "We have succesfuly printed the occurances of each class in both testing and training labels. We can see that all are classes are equally distributed and hence we decide the best metric as measure of success is <b>Accuracy</b>. We'll be aiming to develop a model and train it to achieve higher or good accuracy on unseen data\n",
    "</div>"
   ]
  },
  {
   "cell_type": "markdown",
   "metadata": {},
   "source": [
    "### Deciding on an evaluation protocol"
   ]
  },
  {
   "cell_type": "markdown",
   "metadata": {},
   "source": [
    "The dataset has 60,000 images and labels for training and 10,000 images and labels for testing. The amount of data we have is quite good so we have flexibility in deciding to use a evaluation protocol between Hold-Out Validtaion and K-Fold Validation, or their startified versions.\n",
    "\n",
    "First we evaluate our options: The first option we consider is hold-out cross validation which is setting aside a portion(usually 10-15%) of training data for validation. It is usually used for dataset which have good amount of data. And also the classes are balanced i.e they have almost equal or equally distributed data. It is quicker to perform. The statified version of hold-out validation is called the Stratified Hold Out Validation. This version is used when the classes do not have equal number of samples i.e they are imbalanced e.g class 0 has 300 samples while class 1 has 1000.\n",
    "\n",
    "Another option to consider is the K-Fold Validation that is usually used when there is small amount of data in a dataset. It's more robust than hold-out validation but it is slow. It is mostly used for small dataset but it also produces good results on large dataset. In K-Fold Validation, the validation is done k times and the dataset is splitted into K splits called folds. During each k validation a different fold is set for validation while all other folds are used for input. The Stratified K-Fold Validation is used when there is a class imbalance in data. \n",
    "\n",
    "Considering the best options we have, i've chosen hold-out validation as the evaluation protocol. This was decided due to the fact that we have sufficient amount of data to perform hold-out validation and it is faster than K-Fold Validation. \n",
    "\n",
    "Though we have decided to use the gold out validation but we are yet to decide that should we use hold-out validation or the stratified version of it. We'll have to get some info on how sample are distributed in dataset in order to decide on the evaluation prtocol to be used."
   ]
  },
  {
   "cell_type": "markdown",
   "metadata": {},
   "source": [
    "<div class=\"alert alert-block alert-info\">\n",
    "We already created a function to show how classes are distributed on training or test data. Although we viewewd it in last section, let's view it again for clarity in this section just by calling the function\n",
    "</div"
   ]
  },
  {
   "cell_type": "code",
   "execution_count": 30,
   "metadata": {},
   "outputs": [
    {
     "name": "stdout",
     "output_type": "stream",
     "text": [
      "\u001b[1;36m \n",
      "Total number of classes in Training data are: 10\n",
      "\u001b[1;31m\n",
      " Each class has instances:\n",
      "\u001b[1;31m 0 : 6000\n",
      "\u001b[1;31m 1 : 6000\n",
      "\u001b[1;31m 2 : 6000\n",
      "\u001b[1;31m 3 : 6000\n",
      "\u001b[1;31m 4 : 6000\n",
      "\u001b[1;31m 5 : 6000\n",
      "\u001b[1;31m 6 : 6000\n",
      "\u001b[1;31m 7 : 6000\n",
      "\u001b[1;31m 8 : 6000\n",
      "\u001b[1;31m 9 : 6000\n",
      "\u001b[1;36m \n",
      "Total number of classes in Testing data are: 10\n",
      "\u001b[1;31m\n",
      " Each class has instances:\n",
      "\u001b[1;31m 0 : 1000\n",
      "\u001b[1;31m 1 : 1000\n",
      "\u001b[1;31m 2 : 1000\n",
      "\u001b[1;31m 3 : 1000\n",
      "\u001b[1;31m 4 : 1000\n",
      "\u001b[1;31m 5 : 1000\n",
      "\u001b[1;31m 6 : 1000\n",
      "\u001b[1;31m 7 : 1000\n",
      "\u001b[1;31m 8 : 1000\n",
      "\u001b[1;31m 9 : 1000\n"
     ]
    }
   ],
   "source": [
    "#The code below is originally written by me\n",
    "\n",
    "#function call to check and display how classes are distributed over training labels\n",
    "getClassDistrbituion(trainingLabels, trainingLabels = True)\n",
    "#function call to check and display how classes are distributed over testing labels\n",
    "getClassDistrbituion(testingLabels, trainingLabels = False)\n",
    "\n",
    "#The code originally written by me ends here"
   ]
  },
  {
   "cell_type": "code",
   "execution_count": 31,
   "metadata": {},
   "outputs": [],
   "source": [
    "#The code originally written by me ends here"
   ]
  },
  {
   "cell_type": "markdown",
   "metadata": {},
   "source": [
    "<div class=\"alert alert-block alert-success\">\n",
    "As we can see from above output that there are euqal number fos samples of each class in training labels and testing labels so we can conclude that all the samples are equally divided among each class and there is no class imbalance. As a results the best approach to choose as the evaluation protocol is <b> Hold-Out Validation</b>\n",
    "</div>"
   ]
  },
  {
   "cell_type": "markdown",
   "metadata": {},
   "source": [
    "### Preparing your data"
   ]
  },
  {
   "cell_type": "markdown",
   "metadata": {},
   "source": [
    "<div class=\"alert alert-block alert-info\">\n",
    "As part of pre-processing of the data before modelling begins we need to make sure of some things. So let's look at some properties of data. Once again we will be following a modular approach for the task\n",
    "</div>"
   ]
  },
  {
   "cell_type": "markdown",
   "metadata": {},
   "source": [
    "<div class=\"alert alert-block alert-info\">\n",
    "First lets check tha shape of the data and the data type. Next we will check the dimensionality of our data. Thirdly we will check the data types of our data\n",
    "</div>"
   ]
  },
  {
   "cell_type": "code",
   "execution_count": 32,
   "metadata": {},
   "outputs": [],
   "source": [
    "#The code in below cells is originally written by me"
   ]
  },
  {
   "cell_type": "code",
   "execution_count": 33,
   "metadata": {},
   "outputs": [],
   "source": [
    "def getDataInfo(trainingImages, trainingLabels, testingImages, testingLabels):\n",
    "    '''Function that prints data stats suchs as Shape, Data Type, Dimensionality\n",
    "    parameters: trainingImages, trainingLabels, testingImages, testingLabels\n",
    "    Output: Print statements to show Shape, Data Type, Dimensionality of data\n",
    "    '''\n",
    "    print(\"\\033[1;34m Shapes of the data are following: \")\n",
    "    #get and print shape of training and testing images\n",
    "    print(\"\\033[1;34m Training Images: {}\".format(trainingImages.shape))\n",
    "    print(\"\\033[1;34m Testing Images: {}\".format(testingImages.shape))\n",
    "    #get and print shape of training and testing labels\n",
    "    print(\"\\033[1;34m Training Labels: {}\".format(trainingLabels.shape))\n",
    "    print(\"\\033[1;34m Testing Labels: {}\".format(testingLabels.shape))\n",
    "\n",
    "    print(\"\\033[1;32m\\n Dimensionality of the data are following: \")\n",
    "    #get and print dimensionality of training and testing images\n",
    "    print(\"\\033[1;32m Training Images: {}\".format(trainingImages.ndim))\n",
    "    print(\"\\033[1;32m Testing Images: {}\".format(testingImages.ndim))\n",
    "    #get and print shape of training and testing labels\n",
    "    print(\"\\033[1;32m Training Labels: {}\".format(trainingLabels.ndim))\n",
    "    print(\"\\033[1;32m Testing Labels: {}\".format(testingLabels.ndim))\n",
    "\n",
    "    print(\"\\033[1;35m\\n Data types of the data are following: \")\n",
    "    #get and print data types of training and testing images\n",
    "    print(\"\\033[1;35m Training Images: {}\".format(trainingImages.dtype))\n",
    "    print(\"\\033[1;35m Testing Images: {}\".format(testingImages.dtype))\n",
    "    #get and print data types of training and testing labels\n",
    "    print(\"\\033[1;35m Training Labels: {}\".format(trainingLabels.dtype))\n",
    "    print(\"\\033[1;35m Testing Labels: {}\".format(testingLabels.dtype))"
   ]
  },
  {
   "cell_type": "code",
   "execution_count": 34,
   "metadata": {},
   "outputs": [
    {
     "name": "stdout",
     "output_type": "stream",
     "text": [
      "\u001b[1;34m Shapes of the data are following: \n",
      "\u001b[1;34m Training Images: (60000, 28, 28)\n",
      "\u001b[1;34m Testing Images: (10000, 28, 28)\n",
      "\u001b[1;34m Training Labels: (60000,)\n",
      "\u001b[1;34m Testing Labels: (10000,)\n",
      "\u001b[1;32m\n",
      " Dimensionality of the data are following: \n",
      "\u001b[1;32m Training Images: 3\n",
      "\u001b[1;32m Testing Images: 3\n",
      "\u001b[1;32m Training Labels: 1\n",
      "\u001b[1;32m Testing Labels: 1\n",
      "\u001b[1;35m\n",
      " Data types of the data are following: \n",
      "\u001b[1;35m Training Images: uint8\n",
      "\u001b[1;35m Testing Images: uint8\n",
      "\u001b[1;35m Training Labels: uint8\n",
      "\u001b[1;35m Testing Labels: uint8\n"
     ]
    }
   ],
   "source": [
    "#Function call to print shape, dimensionality and data type of the data\n",
    "getDataInfo(trainingImages, trainingLabels, testingImages, testingLabels)"
   ]
  },
  {
   "cell_type": "markdown",
   "metadata": {},
   "source": [
    "<div class=\"alert alert-block alert-success\">\n",
    "We see that the shape of our training images is (60,000, 28, 28) and shape of testing images is (10000, 28, 28). Both are 3-dimensional tensors. Shape of Training Labels is (60000,) and shape of testing images is (10000,). Both are vectors or 1-dimensional Tensors. </div>"
   ]
  },
  {
   "cell_type": "markdown",
   "metadata": {},
   "source": [
    "<div class=\"alert alert-block alert-success\">\n",
    "We can see that the training images and testing images have 3 axis so they have dimensionality of 3 while training and testing labels have 1 axis so they have dimensionality of 1\n",
    "</div>"
   ]
  },
  {
   "cell_type": "markdown",
   "metadata": {},
   "source": [
    "<div class=\"alert alert-block alert-success\">\n",
    "We can see that the data training images, testing images, training labels, testing labels have the same data type unit8 (integer)\n",
    "</div>"
   ]
  },
  {
   "cell_type": "markdown",
   "metadata": {},
   "source": [
    "<div class=\"alert alert-block alert-info\">\n",
    "To further know more about the that lets print out some samples. First lets print out a sample from training images\n",
    "</div>"
   ]
  },
  {
   "cell_type": "code",
   "execution_count": 35,
   "metadata": {
    "scrolled": false
   },
   "outputs": [
    {
     "name": "stdout",
     "output_type": "stream",
     "text": [
      "\u001b[1;35m Training Images 1: [[  0   0   0   0   0   1   0   0   0   0  41 188 103  54  48  43  87 168\n",
      "  133  16   0   0   0   0   0   0   0   0]\n",
      " [  0   0   0   1   0   0   0  49 136 219 216 228 236 255 255 255 255 217\n",
      "  215 254 231 160  45   0   0   0   0   0]\n",
      " [  0   0   0   0   0  14 176 222 224 212 203 198 196 200 215 204 202 201\n",
      "  201 201 209 218 224 164   0   0   0   0]\n",
      " [  0   0   0   0   0 188 219 200 198 202 198 199 199 201 196 198 198 200\n",
      "  200 200 200 201 200 225  41   0   0   0]\n",
      " [  0   0   0   0  51 219 199 203 203 212 238 248 250 245 249 246 247 252\n",
      "  248 235 207 203 203 222 140   0   0   0]\n",
      " [  0   0   0   0 116 226 206 204 207 204 101  75  47  73  48  50  45  51\n",
      "   63 113 222 202 206 220 224   0   0   0]\n",
      " [  0   0   0   0 200 222 209 203 215 200   0  70  98   0 103  59  68  71\n",
      "   49   0 219 206 214 210 250  38   0   0]\n",
      " [  0   0   0   0 247 218 212 210 215 214   0 254 243 139 255 174 251 255\n",
      "  205   0 215 217 214 208 220  95   0   0]\n",
      " [  0   0   0  45 226 214 214 215 224 205   0  42  35  60  16  17  12  13\n",
      "   70   0 189 216 212 206 212 156   0   0]\n",
      " [  0   0   0 164 235 214 211 220 216 201  52  71  89  94  83  78  70  76\n",
      "   92  87 206 207 222 213 219 208   0   0]\n",
      " [  0   0   0 106 187 223 237 248 211 198 252 250 248 245 248 252 253 250\n",
      "  252 239 201 212 225 215 193 113   0   0]\n",
      " [  0   0   0   0   0  17  54 159 222 193 208 192 197 200 200 200 200 201\n",
      "  203 195 210 165   0   0   0   0   0   0]\n",
      " [  0   0   0   0   0   0   0  47 225 192 214 203 206 204 204 205 206 204\n",
      "  212 197 218 107   0   0   0   0   0   0]\n",
      " [  0   0   0   0   1   6   0  46 212 195 212 202 206 205 204 205 206 204\n",
      "  212 200 218  91   0   3   1   0   0   0]\n",
      " [  0   0   0   0   0   1   0  11 197 199 205 202 205 206 204 205 207 204\n",
      "  205 205 218  77   0   5   0   0   0   0]\n",
      " [  0   0   0   0   0   3   0   2 191 198 201 205 206 205 205 206 209 206\n",
      "  199 209 219  74   0   5   0   0   0   0]\n",
      " [  0   0   0   0   0   2   0   0 188 197 200 207 207 204 207 207 210 208\n",
      "  198 207 221  72   0   4   0   0   0   0]\n",
      " [  0   0   0   0   0   2   0   0 215 198 203 206 208 205 207 207 210 208\n",
      "  200 202 222  75   0   4   0   0   0   0]\n",
      " [  0   0   0   0   0   1   0   0 212 198 209 206 209 206 208 207 211 206\n",
      "  205 198 221  80   0   3   0   0   0   0]\n",
      " [  0   0   0   0   0   1   0   0 204 201 205 208 207 205 211 205 210 210\n",
      "  209 195 221  96   0   3   0   0   0   0]\n",
      " [  0   0   0   0   0   1   0   0 202 201 205 209 207 205 213 206 210 209\n",
      "  210 194 217 105   0   2   0   0   0   0]\n",
      " [  0   0   0   0   0   1   0   0 204 204 205 208 207 205 215 207 210 208\n",
      "  211 193 213 115   0   2   0   0   0   0]\n",
      " [  0   0   0   0   0   0   0   0 204 207 207 208 206 206 215 210 210 207\n",
      "  212 195 210 118   0   2   0   0   0   0]\n",
      " [  0   0   0   0   0   1   0   0 198 208 208 208 204 207 212 212 210 207\n",
      "  211 196 207 121   0   1   0   0   0   0]\n",
      " [  0   0   0   0   0   1   0   0 198 210 207 208 206 209 213 212 211 207\n",
      "  210 197 207 124   0   1   0   0   0   0]\n",
      " [  0   0   0   0   0   0   0   0 172 210 203 201 199 204 207 205 204 201\n",
      "  205 197 206 127   0   0   0   0   0   0]\n",
      " [  0   0   0   0   0   0   0   0 188 221 214 234 236 238 244 244 244 240\n",
      "  243 214 224 162   0   2   0   0   0   0]\n",
      " [  0   0   0   0   0   1   0   0 139 146 130 135 135 137 125 124 125 121\n",
      "  119 114 130  76   0   0   0   0   0   0]]\n"
     ]
    }
   ],
   "source": [
    "#printing a sample from training images\n",
    "print(\"\\033[1;35m Training Images 1: {}\".format(trainingImages[1]))"
   ]
  },
  {
   "cell_type": "markdown",
   "metadata": {},
   "source": [
    "<div class=\"alert alert-block alert-success\">\n",
    "We can realise the values  in training images range between 0 and 255.\n",
    "</div>"
   ]
  },
  {
   "cell_type": "markdown",
   "metadata": {},
   "source": [
    "<div class=\"alert alert-block alert-info\">\n",
    " Lets also visualize the images represented by these values.\n",
    "    </div>"
   ]
  },
  {
   "cell_type": "code",
   "execution_count": 36,
   "metadata": {},
   "outputs": [],
   "source": [
    "#The code originally written by me ends here"
   ]
  },
  {
   "cell_type": "code",
   "execution_count": 37,
   "metadata": {},
   "outputs": [],
   "source": [
    "#Code take from course content and adapted accordingly\n",
    "import matplotlib.pyplot as plt\n",
    "\n",
    "def visluaizeImage(image):\n",
    "    digit = image\n",
    "    plt.imshow(digit, cmap=plt.cm.binary)\n",
    "    plt.show()\n",
    "\n",
    "#code taken from course content ends here"
   ]
  },
  {
   "cell_type": "code",
   "execution_count": 38,
   "metadata": {},
   "outputs": [
    {
     "data": {
      "image/png": "[encoded data removed]",
      "text/plain": [
       "<Figure size 432x288 with 1 Axes>"
      ]
     },
     "metadata": {
      "needs_background": "light"
     },
     "output_type": "display_data"
    }
   ],
   "source": [
    "visluaizeImage(trainingImages[0])"
   ]
  },
  {
   "cell_type": "markdown",
   "metadata": {},
   "source": [
    "<div class=\"alert alert-block alert-success\">\n",
    "The image above represents the first images in training images</div>"
   ]
  },
  {
   "cell_type": "markdown",
   "metadata": {},
   "source": [
    "<div class=\"alert alert-block alert-info\">\n",
    "Lastly, lets check a sample from training label by printing the label of same image we just visualized\n",
    "</div>"
   ]
  },
  {
   "cell_type": "code",
   "execution_count": 39,
   "metadata": {
    "scrolled": true
   },
   "outputs": [
    {
     "name": "stdout",
     "output_type": "stream",
     "text": [
      "\u001b[1;34m First Training Label is: 9\n"
     ]
    }
   ],
   "source": [
    "print(\"\\033[1;34m First Training Label is: {}\".format(trainingLabels[0]))"
   ]
  },
  {
   "cell_type": "markdown",
   "metadata": {},
   "source": [
    "<div class=\"alert alert-block alert-success\">\n",
    "We have succesfully viewed the sample of training images and training labels. We won't check sample of testing samples\n",
    "as the data is similar to what we just viewed. We already know all info about what and how the data is.\n",
    "</div>"
   ]
  },
  {
   "cell_type": "markdown",
   "metadata": {},
   "source": [
    "<div class=\"alert alert-block alert-info\">\n",
    "We realize that the values in our data range from 0-255 and in integer(unt-8) data type. It would be better to normalize the data so that the data points range in 0-1 and change its data type to float32 since the values will no longer be in integers. This way data won't be heterogenous as well. <br>\n",
    "\n",
    "Also, the labels currently range between 0-9. We will use one-hot encoding to preprocess them. Currently the sample that we displayed showed 9. So e.g we'll change its format in a way that to represent the 9th class it should show [0,0,0,0,0,0,0,0,0,1]. What this means is because there are 10 classes there are 10 elements present and whichever class an image belongs to  its value will turn to 1 while all other bits will be 0. In this case last 0 will be one and all bits will be 0 since class 9 is the last class because first class begins from 0 and there are are total 10 classes.z\n",
    "\n",
    "Although deep learning can be done without these steps as well but it makes it easier and more accruacte to do it this way. We'll be doing that right now as a part or prepraring the data to be fed into the network\n",
    "</div>"
   ]
  },
  {
   "cell_type": "code",
   "execution_count": 40,
   "metadata": {},
   "outputs": [],
   "source": [
    "#Code take from course content starts here\n",
    "\n",
    "#Reshaping the 3D Tensor to 2D Tensors  for training and testing images\n",
    "trainingImages = trainingImages.reshape((60000, 28 * 28))\n",
    "testingImages = testingImages.reshape((10000, 28 * 28))\n",
    "\n",
    "#Changing the DataType from uint8 (Integer) and to float32 (Decimal)\n",
    "trainingImages = trainingImages.astype('float32') / 255\n",
    "testingImages = testingImages.astype('float32') / 255\n",
    "\n",
    "#Categorical Encoding for training and testing labels as there are multiple classes\n",
    "from tensorflow.keras.utils import to_categorical\n",
    "trainingLabels = to_categorical(trainingLabels)\n",
    "testingLabels = to_categorical(testingLabels)\n",
    "\n",
    "#Code take from course content ends here"
   ]
  },
  {
   "cell_type": "markdown",
   "metadata": {},
   "source": [
    "<div class=\"alert alert-block alert-info\">\n",
    "Now lets see how the data looks like by checking the shape, dimensioanlity and data type\n",
    "</div>"
   ]
  },
  {
   "cell_type": "code",
   "execution_count": 41,
   "metadata": {},
   "outputs": [],
   "source": [
    "#The code in below cells is originally written by me"
   ]
  },
  {
   "cell_type": "code",
   "execution_count": 42,
   "metadata": {},
   "outputs": [
    {
     "name": "stdout",
     "output_type": "stream",
     "text": [
      "\u001b[1;34m Shapes of the data are following: \n",
      "\u001b[1;34m Training Images: (60000, 784)\n",
      "\u001b[1;34m Testing Images: (10000, 784)\n",
      "\u001b[1;34m Training Labels: (60000, 10)\n",
      "\u001b[1;34m Testing Labels: (10000, 10)\n",
      "\u001b[1;32m\n",
      " Dimensionality of the data are following: \n",
      "\u001b[1;32m Training Images: 2\n",
      "\u001b[1;32m Testing Images: 2\n",
      "\u001b[1;32m Training Labels: 2\n",
      "\u001b[1;32m Testing Labels: 2\n",
      "\u001b[1;35m\n",
      " Data types of the data are following: \n",
      "\u001b[1;35m Training Images: float32\n",
      "\u001b[1;35m Testing Images: float32\n",
      "\u001b[1;35m Training Labels: float32\n",
      "\u001b[1;35m Testing Labels: float32\n"
     ]
    }
   ],
   "source": [
    "#Function call to print shape, dimensionality and data type of the data\n",
    "getDataInfo(trainingImages, trainingLabels, testingImages, testingLabels)"
   ]
  },
  {
   "cell_type": "markdown",
   "metadata": {},
   "source": [
    "<div class=\"alert alert-block alert-success\">\n",
    "We have successfully managed to alter the dimensionality, shape and data type of our data. "
   ]
  },
  {
   "cell_type": "markdown",
   "metadata": {},
   "source": [
    "<div class=\"alert alert-block alert-info\">\n",
    "    Now lets check a sample from our data. First lets check training image values\n",
    "</div>"
   ]
  },
  {
   "cell_type": "code",
   "execution_count": 43,
   "metadata": {
    "scrolled": false
   },
   "outputs": [
    {
     "name": "stdout",
     "output_type": "stream",
     "text": [
      "\u001b[1;35m Training Images 1: [0.         0.         0.         0.         0.         0.00392157\n",
      " 0.         0.         0.         0.         0.16078432 0.7372549\n",
      " 0.40392157 0.21176471 0.1882353  0.16862746 0.34117648 0.65882355\n",
      " 0.52156866 0.0627451  0.         0.         0.         0.\n",
      " 0.         0.         0.         0.         0.         0.\n",
      " 0.         0.00392157 0.         0.         0.         0.19215687\n",
      " 0.53333336 0.85882354 0.84705883 0.89411765 0.9254902  1.\n",
      " 1.         1.         1.         0.8509804  0.84313726 0.99607843\n",
      " 0.90588236 0.627451   0.1764706  0.         0.         0.\n",
      " 0.         0.         0.         0.         0.         0.\n",
      " 0.         0.05490196 0.6901961  0.87058824 0.8784314  0.83137256\n",
      " 0.79607844 0.7764706  0.76862746 0.78431374 0.84313726 0.8\n",
      " 0.7921569  0.7882353  0.7882353  0.7882353  0.81960785 0.85490197\n",
      " 0.8784314  0.6431373  0.         0.         0.         0.\n",
      " 0.         0.         0.         0.         0.         0.7372549\n",
      " 0.85882354 0.78431374 0.7764706  0.7921569  0.7764706  0.78039217\n",
      " 0.78039217 0.7882353  0.76862746 0.7764706  0.7764706  0.78431374\n",
      " 0.78431374 0.78431374 0.78431374 0.7882353  0.78431374 0.88235295\n",
      " 0.16078432 0.         0.         0.         0.         0.\n",
      " 0.         0.         0.2        0.85882354 0.78039217 0.79607844\n",
      " 0.79607844 0.83137256 0.93333334 0.972549   0.98039216 0.9607843\n",
      " 0.9764706  0.9647059  0.96862745 0.9882353  0.972549   0.92156863\n",
      " 0.8117647  0.79607844 0.79607844 0.87058824 0.54901963 0.\n",
      " 0.         0.         0.         0.         0.         0.\n",
      " 0.45490196 0.8862745  0.80784315 0.8        0.8117647  0.8\n",
      " 0.39607844 0.29411766 0.18431373 0.28627452 0.1882353  0.19607843\n",
      " 0.1764706  0.2        0.24705882 0.44313726 0.87058824 0.7921569\n",
      " 0.80784315 0.8627451  0.8784314  0.         0.         0.\n",
      " 0.         0.         0.         0.         0.78431374 0.87058824\n",
      " 0.81960785 0.79607844 0.84313726 0.78431374 0.         0.27450982\n",
      " 0.38431373 0.         0.40392157 0.23137255 0.26666668 0.2784314\n",
      " 0.19215687 0.         0.85882354 0.80784315 0.8392157  0.8235294\n",
      " 0.98039216 0.14901961 0.         0.         0.         0.\n",
      " 0.         0.         0.96862745 0.85490197 0.83137256 0.8235294\n",
      " 0.84313726 0.8392157  0.         0.99607843 0.9529412  0.54509807\n",
      " 1.         0.68235296 0.9843137  1.         0.8039216  0.\n",
      " 0.84313726 0.8509804  0.8392157  0.8156863  0.8627451  0.37254903\n",
      " 0.         0.         0.         0.         0.         0.1764706\n",
      " 0.8862745  0.8392157  0.8392157  0.84313726 0.8784314  0.8039216\n",
      " 0.         0.16470589 0.13725491 0.23529412 0.0627451  0.06666667\n",
      " 0.04705882 0.05098039 0.27450982 0.         0.7411765  0.84705883\n",
      " 0.83137256 0.80784315 0.83137256 0.6117647  0.         0.\n",
      " 0.         0.         0.         0.6431373  0.92156863 0.8392157\n",
      " 0.827451   0.8627451  0.84705883 0.7882353  0.20392157 0.2784314\n",
      " 0.34901962 0.36862746 0.3254902  0.30588236 0.27450982 0.29803923\n",
      " 0.36078432 0.34117648 0.80784315 0.8117647  0.87058824 0.8352941\n",
      " 0.85882354 0.8156863  0.         0.         0.         0.\n",
      " 0.         0.41568628 0.73333335 0.8745098  0.92941177 0.972549\n",
      " 0.827451   0.7764706  0.9882353  0.98039216 0.972549   0.9607843\n",
      " 0.972549   0.9882353  0.99215686 0.98039216 0.9882353  0.9372549\n",
      " 0.7882353  0.83137256 0.88235295 0.84313726 0.75686276 0.44313726\n",
      " 0.         0.         0.         0.         0.         0.\n",
      " 0.         0.06666667 0.21176471 0.62352943 0.87058824 0.75686276\n",
      " 0.8156863  0.7529412  0.77254903 0.78431374 0.78431374 0.78431374\n",
      " 0.78431374 0.7882353  0.79607844 0.7647059  0.8235294  0.64705884\n",
      " 0.         0.         0.         0.         0.         0.\n",
      " 0.         0.         0.         0.         0.         0.\n",
      " 0.         0.18431373 0.88235295 0.7529412  0.8392157  0.79607844\n",
      " 0.80784315 0.8        0.8        0.8039216  0.80784315 0.8\n",
      " 0.83137256 0.77254903 0.85490197 0.41960785 0.         0.\n",
      " 0.         0.         0.         0.         0.         0.\n",
      " 0.         0.         0.00392157 0.02352941 0.         0.18039216\n",
      " 0.83137256 0.7647059  0.83137256 0.7921569  0.80784315 0.8039216\n",
      " 0.8        0.8039216  0.80784315 0.8        0.83137256 0.78431374\n",
      " 0.85490197 0.35686275 0.         0.01176471 0.00392157 0.\n",
      " 0.         0.         0.         0.         0.         0.\n",
      " 0.         0.00392157 0.         0.04313726 0.77254903 0.78039217\n",
      " 0.8039216  0.7921569  0.8039216  0.80784315 0.8        0.8039216\n",
      " 0.8117647  0.8        0.8039216  0.8039216  0.85490197 0.3019608\n",
      " 0.         0.01960784 0.         0.         0.         0.\n",
      " 0.         0.         0.         0.         0.         0.01176471\n",
      " 0.         0.00784314 0.7490196  0.7764706  0.7882353  0.8039216\n",
      " 0.80784315 0.8039216  0.8039216  0.80784315 0.81960785 0.80784315\n",
      " 0.78039217 0.81960785 0.85882354 0.2901961  0.         0.01960784\n",
      " 0.         0.         0.         0.         0.         0.\n",
      " 0.         0.         0.         0.00784314 0.         0.\n",
      " 0.7372549  0.77254903 0.78431374 0.8117647  0.8117647  0.8\n",
      " 0.8117647  0.8117647  0.8235294  0.8156863  0.7764706  0.8117647\n",
      " 0.8666667  0.28235295 0.         0.01568628 0.         0.\n",
      " 0.         0.         0.         0.         0.         0.\n",
      " 0.         0.00784314 0.         0.         0.84313726 0.7764706\n",
      " 0.79607844 0.80784315 0.8156863  0.8039216  0.8117647  0.8117647\n",
      " 0.8235294  0.8156863  0.78431374 0.7921569  0.87058824 0.29411766\n",
      " 0.         0.01568628 0.         0.         0.         0.\n",
      " 0.         0.         0.         0.         0.         0.00392157\n",
      " 0.         0.         0.83137256 0.7764706  0.81960785 0.80784315\n",
      " 0.81960785 0.80784315 0.8156863  0.8117647  0.827451   0.80784315\n",
      " 0.8039216  0.7764706  0.8666667  0.3137255  0.         0.01176471\n",
      " 0.         0.         0.         0.         0.         0.\n",
      " 0.         0.         0.         0.00392157 0.         0.\n",
      " 0.8        0.7882353  0.8039216  0.8156863  0.8117647  0.8039216\n",
      " 0.827451   0.8039216  0.8235294  0.8235294  0.81960785 0.7647059\n",
      " 0.8666667  0.3764706  0.         0.01176471 0.         0.\n",
      " 0.         0.         0.         0.         0.         0.\n",
      " 0.         0.00392157 0.         0.         0.7921569  0.7882353\n",
      " 0.8039216  0.81960785 0.8117647  0.8039216  0.8352941  0.80784315\n",
      " 0.8235294  0.81960785 0.8235294  0.7607843  0.8509804  0.4117647\n",
      " 0.         0.00784314 0.         0.         0.         0.\n",
      " 0.         0.         0.         0.         0.         0.00392157\n",
      " 0.         0.         0.8        0.8        0.8039216  0.8156863\n",
      " 0.8117647  0.8039216  0.84313726 0.8117647  0.8235294  0.8156863\n",
      " 0.827451   0.75686276 0.8352941  0.4509804  0.         0.00784314\n",
      " 0.         0.         0.         0.         0.         0.\n",
      " 0.         0.         0.         0.         0.         0.\n",
      " 0.8        0.8117647  0.8117647  0.8156863  0.80784315 0.80784315\n",
      " 0.84313726 0.8235294  0.8235294  0.8117647  0.83137256 0.7647059\n",
      " 0.8235294  0.4627451  0.         0.00784314 0.         0.\n",
      " 0.         0.         0.         0.         0.         0.\n",
      " 0.         0.00392157 0.         0.         0.7764706  0.8156863\n",
      " 0.8156863  0.8156863  0.8        0.8117647  0.83137256 0.83137256\n",
      " 0.8235294  0.8117647  0.827451   0.76862746 0.8117647  0.4745098\n",
      " 0.         0.00392157 0.         0.         0.         0.\n",
      " 0.         0.         0.         0.         0.         0.00392157\n",
      " 0.         0.         0.7764706  0.8235294  0.8117647  0.8156863\n",
      " 0.80784315 0.81960785 0.8352941  0.83137256 0.827451   0.8117647\n",
      " 0.8235294  0.77254903 0.8117647  0.4862745  0.         0.00392157\n",
      " 0.         0.         0.         0.         0.         0.\n",
      " 0.         0.         0.         0.         0.         0.\n",
      " 0.6745098  0.8235294  0.79607844 0.7882353  0.78039217 0.8\n",
      " 0.8117647  0.8039216  0.8        0.7882353  0.8039216  0.77254903\n",
      " 0.80784315 0.49803922 0.         0.         0.         0.\n",
      " 0.         0.         0.         0.         0.         0.\n",
      " 0.         0.         0.         0.         0.7372549  0.8666667\n",
      " 0.8392157  0.91764706 0.9254902  0.93333334 0.95686275 0.95686275\n",
      " 0.95686275 0.9411765  0.9529412  0.8392157  0.8784314  0.63529414\n",
      " 0.         0.00784314 0.         0.         0.         0.\n",
      " 0.         0.         0.         0.         0.         0.00392157\n",
      " 0.         0.         0.54509807 0.57254905 0.50980395 0.5294118\n",
      " 0.5294118  0.5372549  0.49019608 0.4862745  0.49019608 0.4745098\n",
      " 0.46666667 0.44705883 0.50980395 0.29803923 0.         0.\n",
      " 0.         0.         0.         0.        ]\n"
     ]
    }
   ],
   "source": [
    "print(\"\\033[1;35m Training Images 1: {}\".format(trainingImages[1]))"
   ]
  },
  {
   "cell_type": "markdown",
   "metadata": {},
   "source": [
    "<div class=\"alert alert-block alert-success\">\n",
    " We can now see the values in training images now range between 0-1 and are decimal.\n",
    "</div>"
   ]
  },
  {
   "cell_type": "markdown",
   "metadata": {},
   "source": [
    "<div class=\"alert alert-block alert-info\">\n",
    "Now lets see label for this image\n",
    "</div>"
   ]
  },
  {
   "cell_type": "code",
   "execution_count": 44,
   "metadata": {},
   "outputs": [
    {
     "name": "stdout",
     "output_type": "stream",
     "text": [
      "\u001b[1;34m First Training Label is: [0. 0. 0. 0. 0. 0. 0. 0. 0. 1.]\n"
     ]
    }
   ],
   "source": [
    "print(\"\\033[1;34m First Training Label is: {}\".format(trainingLabels[0]))"
   ]
  },
  {
   "cell_type": "code",
   "execution_count": 45,
   "metadata": {},
   "outputs": [],
   "source": [
    "#The code originally written by me ends here"
   ]
  },
  {
   "cell_type": "markdown",
   "metadata": {},
   "source": [
    "<div class=\"alert alert-block alert-success\">\n",
    "The label sample indicates that now values are either 0 or 1. In this case all elements are 0 except one that is placed 10th that means the label represents class 9 as first element represents starts from 0 instead of 1\n",
    "</div> "
   ]
  },
  {
   "cell_type": "markdown",
   "metadata": {},
   "source": [
    "<div class=\"alert alert-block alert-success\">\n",
    "    We are successfuly done with data preprocessing . Next we will be looking to <b>develop</b> the <b>smallest possible model that does better than the baseline.</b>\n",
    "</div>"
   ]
  },
  {
   "cell_type": "markdown",
   "metadata": {},
   "source": [
    "### Developing a model that does better than a baseline"
   ]
  },
  {
   "cell_type": "markdown",
   "metadata": {},
   "source": [
    "<div class=\"alert alert-block alert-info\">\n",
    "As we saw in last section that we have equal number of samples of each class in the training images. Total samples in the training data were 60,000 and their are total 10 classes. Each class had 6000 samples. So we asumme that the common sense baseline for a human would be 10%. As for a person to guess an images the probability that it is correct is 1 out of 10 options which makes it 10%. In this section our aim is to generate a model aiming for statistical power. We'll be aiming to develop a model that has an accuracy greater than the common sense baseline which is 10%. So in summary we're aiming for the smallest possible model with an accuracy greater than 10%.\n",
    "    \n",
    "We have a Multi-Class, Single Label Classification problem here so we need to be careful while choosing the loss function, optimizer, learning rate,and the last layer activation.\n",
    " \n",
    "We have chosen the categorical_crossentropy as the loss function as it's most suitable for the problem we are trying to solve.\n",
    "    \n",
    "The last layer will have 10 neurons as there are 10 classes and will have a softmax activation function. Softmax Activation Function. What it does is output a probability distribution over multiple classes.\n",
    "    \n",
    "The optimizer we're using is the adam.\n",
    "</div>"
   ]
  },
  {
   "cell_type": "markdown",
   "metadata": {},
   "source": [
    "<div class=\"alert alert-block alert-info\">\n",
    "\n",
    "We're trying to create a model that has an accuracy greater than 10%. We'll try to develop a small model.\n",
    "    \n",
    "Note: We won't be following modular approach here since we are just developing a small model.\n",
    "</div>"
   ]
  },
  {
   "cell_type": "code",
   "execution_count": 101,
   "metadata": {},
   "outputs": [
    {
     "name": "stdout",
     "output_type": "stream",
     "text": [
      "Epoch 1/5\n",
      "30000/30000 [==============================] - 146s 5ms/step - loss: 1.2443 - accuracy: 0.5163\n",
      "Epoch 2/5\n",
      "30000/30000 [==============================] - 153s 5ms/step - loss: 0.9532 - accuracy: 0.6453\n",
      "Epoch 3/5\n",
      "30000/30000 [==============================] - 152s 5ms/step - loss: 0.8123 - accuracy: 0.7118\n",
      "Epoch 4/5\n",
      "30000/30000 [==============================] - 152s 5ms/step - loss: 0.7610 - accuracy: 0.7281\n",
      "Epoch 5/5\n",
      "30000/30000 [==============================] - 152s 5ms/step - loss: 0.7462 - accuracy: 0.7305\n"
     ]
    },
    {
     "data": {
      "text/plain": [
       "<tensorflow.python.keras.callbacks.History at 0x7faef00fa7d0>"
      ]
     },
     "execution_count": 101,
     "metadata": {},
     "output_type": "execute_result"
    }
   ],
   "source": [
    "# Code taken and adapted from course content ends here\n",
    "from tensorflow.keras import models, layers\n",
    "network = models.Sequential()\n",
    "network.add(layers.Dense(2, activation='relu', input_shape=(28 * 28, )))\n",
    "network.add(layers.Dense(10, activation='softmax'))\n",
    "network.compile(optimizer='adam',\n",
    "               loss='categorical_crossentropy', \n",
    "               metrics=['accuracy'])\n",
    "\n",
    "# train\n",
    "network.fit(trainingImages, trainingLabels, epochs=5, batch_size=2)\n",
    "\n",
    "# Code taken and adapted from course content ends here"
   ]
  },
  {
   "cell_type": "markdown",
   "metadata": {},
   "source": [
    "<div class=\"alert alert-block alert-success\">\n",
    "We've succesfully developed a model that has accuracy of 0.7305 or 73.05%  and loss 0.7462 on training data. <br>\n",
    "\n",
    "So what we have done is create a model with 2 layers. The first one is a relu acitvation laer that has 2 neurons.While the second and last layer is a softmax activation layer with 10 neurons as there are 10 classes so it seemed most suitable. I have trained the network using network.fit(.....). The network goes over 5 epochs while the batch size is 2. Batch size determines the size of the batch that will be fed into network as all the dataset is not fed at once. We chose a small batch size here which is 2. The model will iterate over each batch 5 times which is called an epoch.\n",
    "\n",
    "So the network will perform 30,0000 gradient updates  per epoch and in total will perform 120,000 gradient updates. \n",
    "</div>"
   ]
  },
  {
   "cell_type": "markdown",
   "metadata": {},
   "source": [
    "<div class=\"alert alert-block alert-info\">\n",
    "Let's evaludate our model on test data too</div>"
   ]
  },
  {
   "cell_type": "code",
   "execution_count": 102,
   "metadata": {},
   "outputs": [
    {
     "name": "stdout",
     "output_type": "stream",
     "text": [
      "313/313 [==============================] - 1s 2ms/step - loss: 0.7529 - accuracy: 0.7374\n"
     ]
    }
   ],
   "source": [
    "test_loss, test_acc = network.evaluate(testingImages, testingLabels)"
   ]
  },
  {
   "cell_type": "markdown",
   "metadata": {},
   "source": [
    "<div class=\"alert alert-block alert-success\">\n",
    "We've succesfully developed a model that has accuracy of 0.7374 or 73.74% and loss 0.7529 on testing data. The accuracy might not be very high still beats the baseline(0.1 or 10%) by a huge margin even though it's just a small model\n",
    "\n",
    "But there is a thing to consider, In the first layer we give 2 neurons which is considerable very small amount of neurons and considering the fact in final layer there are 10 neurons means there are 10 dimensions. This might result in information bottleneck. This can  drop our accuracy on unseen data so in upcoming sections while we create bigger and more powerfull model and we will try to avoid this problem.\n",
    "</div>"
   ]
  },
  {
   "cell_type": "markdown",
   "metadata": {},
   "source": [
    "### Scaling up: developing a model that overfits "
   ]
  },
  {
   "cell_type": "markdown",
   "metadata": {},
   "source": [
    "<div class=\"alert alert-block alert-info\">\n",
    "In the last section we developd a model that was better than the baseline. We'll take that model further by scaling up things in this section. First lets also add holdout validation to our model.\n",
    "\n",
    "We'll be following a modular approach here and so we will create a function\n",
    "</div>"
   ]
  },
  {
   "cell_type": "code",
   "execution_count": 120,
   "metadata": {},
   "outputs": [],
   "source": [
    "# Code taken and adapted from course content ends here\n",
    "\n",
    "from tensorflow.keras import models, layers\n",
    "\n",
    "def createNetwork():\n",
    "    '''Creates a network based of 2 layers\n",
    "    parameters: None\n",
    "    Output: Returns a created network\n",
    "    '''\n",
    "    #network being created\n",
    "    network = models.Sequential()\n",
    "    network.add(layers.Dense(2, activation='relu', input_shape=(28 * 28, )))\n",
    "    network.add(layers.Dense(10, activation='softmax'))\n",
    "    return network\n",
    "\n",
    "def splitValidationData(trainData, trainLabels, validationSplit):\n",
    "    '''Function that separates data into validation and training on the basis of certain threshold\n",
    "    Parameters: trainData: The training data, trainLabels: Training labels, validationSplit: The number of \n",
    "    samples to be splitted.\n",
    "    Output: Returns 4 numpy arrays of spltted training labels and training data\n",
    "    '''\n",
    "    #Data Being Splitted\n",
    "    x_val = trainData[:validationSplit]\n",
    "    partial_x_train = trainData[validationSplit:]\n",
    "    y_val = trainLabels[:validationSplit]\n",
    "    partial_y_train = trainLabels[validationSplit:]\n",
    "    \n",
    "    return x_val, partial_x_train, y_val, partial_y_train\n",
    "\n",
    "def deepModel(trainData, trainLabels, validationSplit = 9000):\n",
    "    '''Function trains a model on the basis of training data and labels using hold-outvalidation\n",
    "    Parameters: trainData: The training data, trainLabels: Training labels, validationSplit(optional): The number of \n",
    "    samples to be splitted.\n",
    "\n",
    "    Output: Returns a history object containing different metrics of how the model performed\n",
    "    '''\n",
    "\n",
    "    network = createNetwork()\n",
    "    network.compile(optimizer='adam',\n",
    "                   loss='categorical_crossentropy', \n",
    "                   metrics=['accuracy'])\n",
    "\n",
    "    x_val, partial_x_train, y_val, partial_y_train = splitValidationData(trainData, trainLabels, validationSplit)\n",
    "\n",
    "    history = network.fit(partial_x_train, \n",
    "                        partial_y_train,\n",
    "                        epochs = 5,\n",
    "                        batch_size = 2,\n",
    "                        validation_data = (x_val, y_val))\n",
    "    \n",
    "    return history.history"
   ]
  },
  {
   "cell_type": "code",
   "execution_count": 121,
   "metadata": {},
   "outputs": [
    {
     "name": "stdout",
     "output_type": "stream",
     "text": [
      "Epoch 1/5\n",
      "25500/25500 [==============================] - 129s 5ms/step - loss: 1.1197 - accuracy: 0.5530 - val_loss: 0.9448 - val_accuracy: 0.6238\n",
      "Epoch 2/5\n",
      "25500/25500 [==============================] - 130s 5ms/step - loss: 0.9367 - accuracy: 0.6153 - val_loss: 0.9077 - val_accuracy: 0.6406\n",
      "Epoch 3/5\n",
      "25500/25500 [==============================] - 132s 5ms/step - loss: 0.9080 - accuracy: 0.6338 - val_loss: 0.8940 - val_accuracy: 0.6508\n",
      "Epoch 4/5\n",
      "25500/25500 [==============================] - 135s 5ms/step - loss: 0.8889 - accuracy: 0.6457 - val_loss: 0.8802 - val_accuracy: 0.6602\n",
      "Epoch 5/5\n",
      "25500/25500 [==============================] - 129s 5ms/step - loss: 0.8688 - accuracy: 0.6602 - val_loss: 0.8511 - val_accuracy: 0.6890\n"
     ]
    }
   ],
   "source": [
    "#The number of samples to be separated for validation\n",
    "validationSplit = 9000\n",
    "#Function call to run the model\n",
    "crossValModel = deepModel(trainingImages, trainingLabels, validationSplit)"
   ]
  },
  {
   "cell_type": "markdown",
   "metadata": {},
   "source": [
    "<div class=\"alert alert-block alert-success\">\n",
    "We've successfully added hold-out validation to our network as the evaluation protocol for it \n",
    "</div>"
   ]
  },
  {
   "cell_type": "markdown",
   "metadata": {},
   "source": [
    "<div class=\"alert alert-block alert-info\">\n",
    "We've added the holdout-validation but scaling up things does not mean only adding evaluation protocol.\n",
    "Next we'll be making our network bigger and increase its model capacity by adding 2 more layer between the first and last layers. We'll increase the number of neurons in a layer which were currently se to 2 in the first layer. The last layer will have the same number  of neurons that is 10. We'll increase the batch size and also the number of epochs. What you'll see now is a bigger neural network than the first one.\n",
    "</div>"
   ]
  },
  {
   "cell_type": "markdown",
   "metadata": {},
   "source": [
    "<div class=\"alert alert-block alert-info\">\n",
    "Let's update our function to have more layers and epochs\n",
    "</div>"
   ]
  },
  {
   "cell_type": "code",
   "execution_count": 110,
   "metadata": {},
   "outputs": [],
   "source": [
    "# build\n",
    "from tensorflow.keras import models, layers\n",
    "\n",
    "def createNetwork():\n",
    "    '''Create network based of 4 layers each with 512 neurons and last with 10 neurons.\n",
    "    parameters: None\n",
    "    Output: Returns a created network\n",
    "    '''\n",
    "    network = models.Sequential()\n",
    "    network.add(layers.Dense(512, activation='relu', input_shape=(28 * 28, )))\n",
    "    network.add(layers.Dense(512, activation='relu'))\n",
    "    network.add(layers.Dense(512, activation='relu'))\n",
    "    network.add(layers.Dense(10, activation='softmax'))\n",
    "    return network\n",
    "\n",
    "def splitValidationData(trainData, trainLabels, validationSplit):\n",
    "    '''Function that separates data into validation and training on the basis of certain threshold\n",
    "    Parameters: trainData: The training data, trainLabels: Training labels, validationSplit: The number of \n",
    "    samples to be splitted.\n",
    "    Output: Returns 4 numpy arrays of spltted training labels and training data\n",
    "    '''\n",
    "    #validation\n",
    "    x_val = trainData[:validationSplit]\n",
    "    partial_x_train = trainData[validationSplit:]\n",
    "    y_val = trainLabels[:validationSplit]\n",
    "    partial_y_train = trainLabels[validationSplit:]\n",
    "    \n",
    "    return x_val, partial_x_train, y_val, partial_y_train\n",
    "\n",
    "def deepModel(trainData, trainLabels, validationSplit = 9000):\n",
    "    '''Function trains a model for 30 epochs on the basis of training data and labels using hold-outvalidation\n",
    "    Parameters: trainData: The training data, trainLabels: Training labels, validationSplit(optional): The number of \n",
    "    samples to be splitted.\n",
    "\n",
    "    Output: Returns a history object containing different metrics of how the model performed\n",
    "    '''\n",
    "\n",
    "    network = createNetwork()\n",
    "    \n",
    "    network.compile(optimizer='adam',\n",
    "                   loss='categorical_crossentropy', \n",
    "                   metrics=['accuracy'])\n",
    "\n",
    "    x_val, partial_x_train, y_val, partial_y_train = splitValidationData(trainData, trainLabels, validationSplit)\n",
    "\n",
    "    history = network.fit(partial_x_train, \n",
    "                        partial_y_train,\n",
    "                        epochs = 30,\n",
    "                        batch_size = 512,\n",
    "                        validation_data = (x_val, y_val))# evaluate on the test set\n",
    "    \n",
    "    return history.history"
   ]
  },
  {
   "cell_type": "code",
   "execution_count": 112,
   "metadata": {},
   "outputs": [
    {
     "name": "stdout",
     "output_type": "stream",
     "text": [
      "Epoch 1/30\n",
      "100/100 [==============================] - 44s 439ms/step - loss: 0.5908 - accuracy: 0.7954 - val_loss: 0.4100 - val_accuracy: 0.8490\n",
      "Epoch 2/30\n",
      "100/100 [==============================] - 40s 397ms/step - loss: 0.3905 - accuracy: 0.8602 - val_loss: 0.3587 - val_accuracy: 0.8711\n",
      "Epoch 3/30\n",
      "100/100 [==============================] - 33s 333ms/step - loss: 0.3377 - accuracy: 0.8765 - val_loss: 0.3295 - val_accuracy: 0.8840\n",
      "Epoch 4/30\n",
      "100/100 [==============================] - 32s 315ms/step - loss: 0.3113 - accuracy: 0.8844 - val_loss: 0.3516 - val_accuracy: 0.8741\n",
      "Epoch 5/30\n",
      "100/100 [==============================] - 31s 312ms/step - loss: 0.2867 - accuracy: 0.8929 - val_loss: 0.3085 - val_accuracy: 0.8888\n",
      "Epoch 6/30\n",
      "100/100 [==============================] - 32s 316ms/step - loss: 0.2652 - accuracy: 0.9010 - val_loss: 0.3005 - val_accuracy: 0.8896\n",
      "Epoch 7/30\n",
      "100/100 [==============================] - 31s 309ms/step - loss: 0.2540 - accuracy: 0.9040 - val_loss: 0.3065 - val_accuracy: 0.8886\n",
      "Epoch 8/30\n",
      "100/100 [==============================] - 31s 311ms/step - loss: 0.2366 - accuracy: 0.9112 - val_loss: 0.3023 - val_accuracy: 0.8899\n",
      "Epoch 9/30\n",
      "100/100 [==============================] - 31s 311ms/step - loss: 0.2269 - accuracy: 0.9152 - val_loss: 0.3077 - val_accuracy: 0.8889\n",
      "Epoch 10/30\n",
      "100/100 [==============================] - 31s 309ms/step - loss: 0.2180 - accuracy: 0.9176 - val_loss: 0.3015 - val_accuracy: 0.8968\n",
      "Epoch 11/30\n",
      "100/100 [==============================] - 31s 314ms/step - loss: 0.2178 - accuracy: 0.9177 - val_loss: 0.3030 - val_accuracy: 0.8931\n",
      "Epoch 12/30\n",
      "100/100 [==============================] - 32s 323ms/step - loss: 0.2000 - accuracy: 0.9247 - val_loss: 0.3178 - val_accuracy: 0.8856\n",
      "Epoch 13/30\n",
      "100/100 [==============================] - 33s 328ms/step - loss: 0.1950 - accuracy: 0.9256 - val_loss: 0.3062 - val_accuracy: 0.8902\n",
      "Epoch 14/30\n",
      "100/100 [==============================] - 32s 317ms/step - loss: 0.1796 - accuracy: 0.9319 - val_loss: 0.3105 - val_accuracy: 0.8958\n",
      "Epoch 15/30\n",
      "100/100 [==============================] - 32s 318ms/step - loss: 0.1784 - accuracy: 0.9315 - val_loss: 0.3295 - val_accuracy: 0.8911\n",
      "Epoch 16/30\n",
      "100/100 [==============================] - 31s 313ms/step - loss: 0.1657 - accuracy: 0.9364 - val_loss: 0.3059 - val_accuracy: 0.8971\n",
      "Epoch 17/30\n",
      "100/100 [==============================] - 32s 315ms/step - loss: 0.1589 - accuracy: 0.9399 - val_loss: 0.3271 - val_accuracy: 0.8930\n",
      "Epoch 18/30\n",
      "100/100 [==============================] - 31s 314ms/step - loss: 0.1536 - accuracy: 0.9415 - val_loss: 0.3267 - val_accuracy: 0.8953\n",
      "Epoch 19/30\n",
      "100/100 [==============================] - 31s 307ms/step - loss: 0.1485 - accuracy: 0.9429 - val_loss: 0.3658 - val_accuracy: 0.8856\n",
      "Epoch 20/30\n",
      "100/100 [==============================] - 32s 316ms/step - loss: 0.1417 - accuracy: 0.9461 - val_loss: 0.3567 - val_accuracy: 0.8922\n",
      "Epoch 21/30\n",
      "100/100 [==============================] - 32s 315ms/step - loss: 0.1417 - accuracy: 0.9465 - val_loss: 0.3456 - val_accuracy: 0.8933\n",
      "Epoch 22/30\n",
      "100/100 [==============================] - 32s 320ms/step - loss: 0.1255 - accuracy: 0.9517 - val_loss: 0.3507 - val_accuracy: 0.8921\n",
      "Epoch 23/30\n",
      "100/100 [==============================] - 33s 330ms/step - loss: 0.1337 - accuracy: 0.9484 - val_loss: 0.3815 - val_accuracy: 0.8981\n",
      "Epoch 24/30\n",
      "100/100 [==============================] - 32s 321ms/step - loss: 0.1256 - accuracy: 0.9523 - val_loss: 0.3698 - val_accuracy: 0.8993\n",
      "Epoch 25/30\n",
      "100/100 [==============================] - 31s 313ms/step - loss: 0.1177 - accuracy: 0.9549 - val_loss: 0.3552 - val_accuracy: 0.8960\n",
      "Epoch 26/30\n",
      "100/100 [==============================] - 32s 322ms/step - loss: 0.1098 - accuracy: 0.9581 - val_loss: 0.3825 - val_accuracy: 0.8927\n",
      "Epoch 27/30\n",
      "100/100 [==============================] - 31s 310ms/step - loss: 0.1120 - accuracy: 0.9570 - val_loss: 0.3932 - val_accuracy: 0.8952\n",
      "Epoch 28/30\n",
      "100/100 [==============================] - 32s 324ms/step - loss: 0.1088 - accuracy: 0.9586 - val_loss: 0.3964 - val_accuracy: 0.8949\n",
      "Epoch 29/30\n",
      "100/100 [==============================] - 32s 319ms/step - loss: 0.0995 - accuracy: 0.9618 - val_loss: 0.4008 - val_accuracy: 0.8951\n",
      "Epoch 30/30\n",
      "100/100 [==============================] - 32s 316ms/step - loss: 0.0944 - accuracy: 0.9638 - val_loss: 0.4196 - val_accuracy: 0.9002\n"
     ]
    }
   ],
   "source": [
    "#The number of samples to be separated for validation\n",
    "validationSplit = 9000\n",
    "#Function call to train and validate the network\n",
    "biggerModel = deepModel(trainingImages, trainingLabels, validationSplit)"
   ]
  },
  {
   "cell_type": "markdown",
   "metadata": {},
   "source": [
    "<div class=\"alert alert-block alert-success\">\n",
    "It took quite long to train the network this time as there were 100 epochs. \n",
    "    \n",
    "Let's get a summary of our neural network. \n",
    "It has 4 layers. The last one is a softmax activation layer with three neuron while the first 3 have 512 neurons and are relu activation layer. Input shape is passed in the first layer but not in upcoming layer is neural network is smart enough to make it in the shape that was the outcome of the last layer.\n",
    "    \n",
    "The network uses Hold-Out Validation as evaluaation protocol. It has a batch size of 512 to and has 100 epochs that means it loops over the dataset for 100 iterations. \n",
    "    \n",
    "The optimizer we use is adam with default learning rate, loss function is categorical_crossentropy. We use accuracy as the measure of success.\n",
    "</div>"
   ]
  },
  {
   "cell_type": "markdown",
   "metadata": {},
   "source": [
    "<div class=\"alert alert-block alert-info\">\n",
    "Now lets visualize two graphs. One will be used to see how the values of training loss and the validation loss go over 100 epochs. The second graph will show values of training accuracy and validation accuracy over 30 epochs. \n",
    "    \n",
    "This will help us to see is there overfitting in our network? If there is from which epoch does it begin.\n",
    "    \n",
    "Overfitting happens when model performs good on training data but it struggles with the unseens data. In our case if there is overfitting, the validation accuracy will be less than training accuracy. While training loss will be less than validation loss\n",
    "</div>"
   ]
  },
  {
   "cell_type": "code",
   "execution_count": 114,
   "metadata": {},
   "outputs": [
    {
     "data": {
      "image/png": "[encoded data removed]",
      "text/plain": [
       "<Figure size 432x288 with 1 Axes>"
      ]
     },
     "metadata": {
      "needs_background": "light"
     },
     "output_type": "display_data"
    }
   ],
   "source": [
    "#Plotting the training and validation loss\n",
    "import matplotlib.pyplot as plt\n",
    "loss = biggerModel['loss']\n",
    "val_loss = biggerModel['val_loss']\n",
    "epochs = range(1, len(loss) + 1)\n",
    "plt.plot(epochs, loss, 'bo', label='Training loss')\n",
    "plt.plot(epochs, val_loss, 'b', label='Validation loss')\n",
    "plt.title('Training and validation loss')\n",
    "plt.xlabel('Epochs')\n",
    "plt.ylabel('Loss')\n",
    "plt.legend()\n",
    "plt.show()\n"
   ]
  },
  {
   "cell_type": "code",
   "execution_count": 115,
   "metadata": {},
   "outputs": [
    {
     "data": {
      "image/png": "[encoded data removed]",
      "text/plain": [
       "<Figure size 432x288 with 1 Axes>"
      ]
     },
     "metadata": {
      "needs_background": "light"
     },
     "output_type": "display_data"
    }
   ],
   "source": [
    "plt.clf()\n",
    "\n",
    "#Plotting the training and validation accuracy\n",
    "acc = biggerModel['accuracy']\n",
    "val_acc = biggerModel['val_accuracy']\n",
    "plt.plot(epochs, acc, 'bo', label='Training acc')\n",
    "plt.plot(epochs, val_acc, 'b', label='Validation acc')\n",
    "plt.title('Training and validation accuracy')\n",
    "plt.xlabel('Epochs')\n",
    "plt.ylabel('Accuracy')\n",
    "plt.legend()\n",
    "plt.show()\n"
   ]
  },
  {
   "cell_type": "markdown",
   "metadata": {},
   "source": [
    "<div class=\"alert alert-block alert-success\">\n",
    "Graph 1 Analysis: The graphs shows training loss to decrease constantly and nearing 0 after 30 epochs. While validation loss start to decerase in the start, around 6th epoch it changes its direction and overftting begins.\n",
    "    \n",
    "Graph 2 Analysis: The graphs shows training accuracy to increase constantly and nearing 1 after 30 epochs. While validation accuracy starts to increase in the start, around 6-7 epoch it stops increase stays steady.\n",
    "    \n",
    "You might see be wondering why does the difference between validation loss and training loss, validation accuracy and training accuracy continues to increase after 6-7 epochs. This is due to overfitting. The is a problem where model start to perform extrememly accurtely on training data but worsely performs on unseen data.The model has somewhat started to memorize the training data, and it has started to go frm generalization. Which means it will not be able to perform on the data it has not seen before. \n",
    "    \n",
    "Our aim is to create a model that performs well on unseen data as well and for that we need to eliminate or reduce overfitting. And this is what we'll be doing in the next section\n",
    "\n",
    "</div>\n",
    "    "
   ]
  },
  {
   "cell_type": "markdown",
   "metadata": {},
   "source": [
    "### Regularizing your model and tuning your hyperparameters"
   ]
  },
  {
   "cell_type": "markdown",
   "metadata": {},
   "source": [
    "<div class=\"alert alert-block alert-info\">\n",
    "In the last section through visualizations we noticed our model begins to overfit after 6 epochs. What this means is the performance of the model continues to increase on the training data, but starts to decrease on unseen data. So what happens is our model goes far away from generalization and instead memorizes the training data and its labels. So in this section we will be trying to reduce or eliminate overfitting to make our model's performance better on unseen data. We will be using different tehniques on the model through certain steps 1 by 1 to avoid or reduce the overfitting problem. <br><br>\n",
    "1. Reducing the Network's Capacity.<br>\n",
    "2. Adding Weight Reduarization (Regularization)<br>\n",
    "3. Adding Dropout (Regularization)<br>\n",
    "4. Different Learning Rates<br>\n",
    "5.Early stopping<br>\n",
    "\n",
    "We'll be following a modular approach here as well. In last section we created a function to train and validate our model. In this section we will update the function to take in more parameters and update the function accordingly according to the enviorment. We will also be creating a function for our visualizations here to compare how our model performed through different techniques.\n",
    "</div>"
   ]
  },
  {
   "cell_type": "markdown",
   "metadata": {},
   "source": [
    "<div class=\"alert alert-block alert-info\">\n",
    "    <h4> 1. Reducing the network's size.  </h4>\n",
    "<p>\n",
    "We'll be passing diffferent number of neurons to our network in order to\n",
    "find out which number of neurons reduces the overfitting problem. We already tried the model with 512 neurons in each layer except the last one which has 10 as their are 10 classes. Now what we will do is train our model using smaller number of neurons 128 and 256 as well. Later on we'll go through visualzations to find out which is the best model capacity for us.</p>\n",
    "</div>"
   ]
  },
  {
   "cell_type": "markdown",
   "metadata": {},
   "source": [
    "<div class=\"alert alert-block alert-info\">\n",
    "First lets create function for our model\n",
    "</div>"
   ]
  },
  {
   "cell_type": "code",
   "execution_count": 24,
   "metadata": {},
   "outputs": [],
   "source": [
    "# Code taken and adapted from course content start here\n",
    "from tensorflow.keras import models, layers, regularizers\n",
    "\n",
    "def createNetwork(neuronsInLayer, l2Rate, dropOutRate):\n",
    "    '''Create network based of 4 layers each with neurons number accoring to parameter and last layer with 10 neurons.\n",
    "    Also applies l2 reguularization and dropout\n",
    "    parameters: None\n",
    "    Output: Returns a created network\n",
    "    '''\n",
    "    network = models.Sequential()\n",
    "    network.add(layers.Dense(neuronsInLayer, kernel_regularizer=regularizers.l2(l2Rate), \n",
    "                             activation='relu', input_shape=(28 * 28, )))\n",
    "    network.add(layers.Dropout(dropOutRate))\n",
    "    network.add(layers.Dense(neuronsInLayer, kernel_regularizer=regularizers.l2(l2Rate), activation='relu'))\n",
    "    network.add(layers.Dropout(dropOutRate))\n",
    "    network.add(layers.Dense(neuronsInLayer, kernel_regularizer=regularizers.l2(l2Rate), activation='relu'))\n",
    "    network.add(layers.Dropout(dropOutRate))\n",
    "    network.add(layers.Dense(10, activation='softmax'))\n",
    "    return network\n",
    "\n",
    "def splitValidationData(trainData, trainLabels, validationSplit):\n",
    "    '''Function that separates data into validation and training on the basis of certain threshold\n",
    "    Parameters: trainData: The training data, trainLabels: Training labels, validationSplit: The number of \n",
    "    samples to be splitted.\n",
    "    Output: Returns 4 numpy arrays of spltted training labels and training data\n",
    "    '''\n",
    "    #validation\n",
    "    x_val = trainData[:validationSplit]\n",
    "    partial_x_train = trainData[validationSplit:]\n",
    "    y_val = trainLabels[:validationSplit]\n",
    "    partial_y_train = trainLabels[validationSplit:]\n",
    "    \n",
    "    return x_val, partial_x_train, y_val, partial_y_train\n",
    "\n",
    "def deepModel(trainData, trainLabels, validationSplit = 9000, neuronsInLayer = 512, l2Rate = 0, dropOutRate = 0 ):\n",
    "    '''Function trains a model for 30 epochs on the basis of training data and labels, uses l2 rate and dropout \n",
    "    to avoid overfitting. also can have different network capacity based on parameters\n",
    "    Parameters: trainData: The training data, trainLabels: Training labels, validationSplit(optional): The number of \n",
    "    samples to be splitted, neuronsInLayer: No. of neurons in each layer except last, l2Rate: l2 rate to be applied,\n",
    "    dropOutRate: drop out to be apploed\n",
    "\n",
    "    Output: Returns a history object containing different metrics of how the model performed\n",
    "    '''  \n",
    "\n",
    "    network = createNetwork(neuronsInLayer, l2Rate, dropOutRate)\n",
    "    \n",
    "    network.compile(optimizer='adam',\n",
    "                   loss='categorical_crossentropy', \n",
    "                   metrics=['accuracy'])\n",
    "\n",
    "    x_val, partial_x_train, y_val, partial_y_train = splitValidationData(trainData, trainLabels, validationSplit)\n",
    "\n",
    "    history = network.fit(partial_x_train, \n",
    "                        partial_y_train,\n",
    "                        epochs = 30,\n",
    "                        batch_size = 512,\n",
    "                        validation_data = (x_val, y_val))# evaluate on the test set\n",
    "    \n",
    "    return history.history\n",
    "\n",
    "# Code taken and adapted from course content ends here"
   ]
  },
  {
   "cell_type": "markdown",
   "metadata": {},
   "source": [
    "<div class=\"alert alert-block alert-info\">\n",
    "Now we will call the function three times. Each time we'll use different number of neurons. The function returns a dictionary object which contains info about how model performed with specific number of neurons. The dictionary object will be appended to an array. This way we will have 3 model enteries in the array . Each entry containing the info of how the model performed. We will use this to visualize their performance in next step.\n",
    "</div>"
   ]
  },
  {
   "cell_type": "code",
   "execution_count": 22,
   "metadata": {
    "scrolled": false
   },
   "outputs": [
    {
     "name": "stdout",
     "output_type": "stream",
     "text": [
      "Epoch 1/30\n",
      "100/100 [==============================] - 16s 164ms/step - loss: 0.7253 - accuracy: 0.7482 - val_loss: 0.4842 - val_accuracy: 0.8271\n",
      "Epoch 2/30\n",
      "100/100 [==============================] - 15s 151ms/step - loss: 0.4374 - accuracy: 0.8445 - val_loss: 0.4166 - val_accuracy: 0.8509\n",
      "Epoch 3/30\n",
      "100/100 [==============================] - 13s 130ms/step - loss: 0.3861 - accuracy: 0.8616 - val_loss: 0.3816 - val_accuracy: 0.8638\n",
      "Epoch 4/30\n",
      "100/100 [==============================] - 13s 131ms/step - loss: 0.3618 - accuracy: 0.8710 - val_loss: 0.3731 - val_accuracy: 0.8641\n",
      "Epoch 5/30\n",
      "100/100 [==============================] - 13s 131ms/step - loss: 0.3356 - accuracy: 0.8798 - val_loss: 0.3467 - val_accuracy: 0.8763\n",
      "Epoch 6/30\n",
      "100/100 [==============================] - 15s 147ms/step - loss: 0.3245 - accuracy: 0.8815 - val_loss: 0.3349 - val_accuracy: 0.8769\n",
      "Epoch 7/30\n",
      "100/100 [==============================] - 16s 162ms/step - loss: 0.3100 - accuracy: 0.8868 - val_loss: 0.3537 - val_accuracy: 0.8716\n",
      "Epoch 8/30\n",
      "100/100 [==============================] - 14s 142ms/step - loss: 0.2952 - accuracy: 0.8924 - val_loss: 0.3343 - val_accuracy: 0.8783\n",
      "Epoch 9/30\n",
      "100/100 [==============================] - 15s 146ms/step - loss: 0.2819 - accuracy: 0.8964 - val_loss: 0.3184 - val_accuracy: 0.8841\n",
      "Epoch 10/30\n",
      "100/100 [==============================] - 15s 145ms/step - loss: 0.2804 - accuracy: 0.8970 - val_loss: 0.3130 - val_accuracy: 0.8849\n",
      "Epoch 11/30\n",
      "100/100 [==============================] - 13s 134ms/step - loss: 0.2621 - accuracy: 0.9045 - val_loss: 0.3199 - val_accuracy: 0.8812\n",
      "Epoch 12/30\n",
      "100/100 [==============================] - 14s 142ms/step - loss: 0.2605 - accuracy: 0.9039 - val_loss: 0.3106 - val_accuracy: 0.8868\n",
      "Epoch 13/30\n",
      "100/100 [==============================] - 13s 133ms/step - loss: 0.2456 - accuracy: 0.9100 - val_loss: 0.3170 - val_accuracy: 0.8831\n",
      "Epoch 14/30\n",
      "100/100 [==============================] - 12s 123ms/step - loss: 0.2387 - accuracy: 0.9127 - val_loss: 0.3198 - val_accuracy: 0.8812\n",
      "Epoch 15/30\n",
      "100/100 [==============================] - 13s 134ms/step - loss: 0.2389 - accuracy: 0.9117 - val_loss: 0.3235 - val_accuracy: 0.8836\n",
      "Epoch 16/30\n",
      "100/100 [==============================] - 13s 134ms/step - loss: 0.2275 - accuracy: 0.9170 - val_loss: 0.3059 - val_accuracy: 0.8919\n",
      "Epoch 17/30\n",
      "100/100 [==============================] - 13s 128ms/step - loss: 0.2223 - accuracy: 0.9177 - val_loss: 0.3089 - val_accuracy: 0.8922\n",
      "Epoch 18/30\n",
      "100/100 [==============================] - 14s 139ms/step - loss: 0.2173 - accuracy: 0.9197 - val_loss: 0.3066 - val_accuracy: 0.8916\n",
      "Epoch 19/30\n",
      "100/100 [==============================] - 13s 133ms/step - loss: 0.2086 - accuracy: 0.9225 - val_loss: 0.3288 - val_accuracy: 0.8834\n",
      "Epoch 20/30\n",
      "100/100 [==============================] - 13s 133ms/step - loss: 0.2053 - accuracy: 0.9241 - val_loss: 0.3102 - val_accuracy: 0.8923\n",
      "Epoch 21/30\n",
      "100/100 [==============================] - 14s 137ms/step - loss: 0.1962 - accuracy: 0.9262 - val_loss: 0.3196 - val_accuracy: 0.8893\n",
      "Epoch 22/30\n",
      "100/100 [==============================] - 13s 130ms/step - loss: 0.1902 - accuracy: 0.9295 - val_loss: 0.3356 - val_accuracy: 0.8882\n",
      "Epoch 23/30\n",
      "100/100 [==============================] - 14s 139ms/step - loss: 0.1879 - accuracy: 0.9306 - val_loss: 0.3273 - val_accuracy: 0.8913\n",
      "Epoch 24/30\n",
      "100/100 [==============================] - 13s 131ms/step - loss: 0.1793 - accuracy: 0.9333 - val_loss: 0.3310 - val_accuracy: 0.8878\n",
      "Epoch 25/30\n",
      "100/100 [==============================] - 15s 147ms/step - loss: 0.1793 - accuracy: 0.9340 - val_loss: 0.3298 - val_accuracy: 0.8922\n",
      "Epoch 26/30\n",
      "100/100 [==============================] - 14s 143ms/step - loss: 0.1753 - accuracy: 0.9347 - val_loss: 0.3240 - val_accuracy: 0.8870\n",
      "Epoch 27/30\n",
      "100/100 [==============================] - 14s 137ms/step - loss: 0.1691 - accuracy: 0.9360 - val_loss: 0.3475 - val_accuracy: 0.8844\n",
      "Epoch 28/30\n",
      "100/100 [==============================] - 14s 137ms/step - loss: 0.1680 - accuracy: 0.9375 - val_loss: 0.3291 - val_accuracy: 0.8916\n",
      "Epoch 29/30\n",
      "100/100 [==============================] - 13s 132ms/step - loss: 0.1620 - accuracy: 0.9402 - val_loss: 0.3453 - val_accuracy: 0.8913\n",
      "Epoch 30/30\n",
      "100/100 [==============================] - 12s 120ms/step - loss: 0.1565 - accuracy: 0.9414 - val_loss: 0.3810 - val_accuracy: 0.8810\n",
      "Epoch 1/30\n",
      "100/100 [==============================] - 25s 248ms/step - loss: 0.6402 - accuracy: 0.7771 - val_loss: 0.4709 - val_accuracy: 0.8334\n",
      "Epoch 2/30\n",
      "100/100 [==============================] - 26s 259ms/step - loss: 0.4144 - accuracy: 0.8507 - val_loss: 0.3858 - val_accuracy: 0.8632\n",
      "Epoch 3/30\n",
      "100/100 [==============================] - 27s 270ms/step - loss: 0.3580 - accuracy: 0.8712 - val_loss: 0.3561 - val_accuracy: 0.8712\n",
      "Epoch 4/30\n",
      "100/100 [==============================] - 26s 264ms/step - loss: 0.3311 - accuracy: 0.8805 - val_loss: 0.3478 - val_accuracy: 0.8752\n",
      "Epoch 5/30\n",
      "100/100 [==============================] - 26s 260ms/step - loss: 0.3042 - accuracy: 0.8899 - val_loss: 0.3207 - val_accuracy: 0.8823\n",
      "Epoch 6/30\n",
      "100/100 [==============================] - 24s 241ms/step - loss: 0.2891 - accuracy: 0.8935 - val_loss: 0.3105 - val_accuracy: 0.8868\n",
      "Epoch 7/30\n",
      "100/100 [==============================] - 24s 244ms/step - loss: 0.2718 - accuracy: 0.8992 - val_loss: 0.3168 - val_accuracy: 0.8871\n",
      "Epoch 8/30\n",
      "100/100 [==============================] - 25s 252ms/step - loss: 0.2618 - accuracy: 0.9031 - val_loss: 0.3040 - val_accuracy: 0.8909\n",
      "Epoch 9/30\n",
      "100/100 [==============================] - 25s 247ms/step - loss: 0.2452 - accuracy: 0.9092 - val_loss: 0.2975 - val_accuracy: 0.8918\n",
      "Epoch 10/30\n",
      "100/100 [==============================] - 24s 244ms/step - loss: 0.2389 - accuracy: 0.9111 - val_loss: 0.3112 - val_accuracy: 0.8877\n",
      "Epoch 11/30\n",
      "100/100 [==============================] - 25s 248ms/step - loss: 0.2307 - accuracy: 0.9137 - val_loss: 0.3289 - val_accuracy: 0.8836\n",
      "Epoch 12/30\n",
      "100/100 [==============================] - 25s 251ms/step - loss: 0.2209 - accuracy: 0.9176 - val_loss: 0.3057 - val_accuracy: 0.8907\n",
      "Epoch 13/30\n",
      "100/100 [==============================] - 26s 256ms/step - loss: 0.2093 - accuracy: 0.9216 - val_loss: 0.3124 - val_accuracy: 0.8911\n",
      "Epoch 14/30\n",
      "100/100 [==============================] - 26s 255ms/step - loss: 0.2006 - accuracy: 0.9255 - val_loss: 0.3068 - val_accuracy: 0.8937\n",
      "Epoch 15/30\n",
      "100/100 [==============================] - 26s 260ms/step - loss: 0.1960 - accuracy: 0.9267 - val_loss: 0.2996 - val_accuracy: 0.8909\n",
      "Epoch 16/30\n",
      "100/100 [==============================] - 26s 256ms/step - loss: 0.1881 - accuracy: 0.9291 - val_loss: 0.3034 - val_accuracy: 0.8921\n",
      "Epoch 17/30\n",
      "100/100 [==============================] - 26s 262ms/step - loss: 0.1804 - accuracy: 0.9325 - val_loss: 0.3098 - val_accuracy: 0.8958\n",
      "Epoch 18/30\n",
      "100/100 [==============================] - 28s 276ms/step - loss: 0.1777 - accuracy: 0.9330 - val_loss: 0.3171 - val_accuracy: 0.8929\n",
      "Epoch 19/30\n",
      "100/100 [==============================] - 26s 257ms/step - loss: 0.1785 - accuracy: 0.9330 - val_loss: 0.3166 - val_accuracy: 0.8927\n",
      "Epoch 20/30\n",
      "100/100 [==============================] - 24s 243ms/step - loss: 0.1592 - accuracy: 0.9404 - val_loss: 0.3350 - val_accuracy: 0.8898\n",
      "Epoch 21/30\n",
      "100/100 [==============================] - 25s 246ms/step - loss: 0.1546 - accuracy: 0.9431 - val_loss: 0.3368 - val_accuracy: 0.8891\n",
      "Epoch 22/30\n",
      "100/100 [==============================] - 24s 236ms/step - loss: 0.1518 - accuracy: 0.9431 - val_loss: 0.3187 - val_accuracy: 0.8953\n",
      "Epoch 23/30\n",
      "100/100 [==============================] - 23s 234ms/step - loss: 0.1413 - accuracy: 0.9474 - val_loss: 0.3295 - val_accuracy: 0.8929\n",
      "Epoch 24/30\n",
      "100/100 [==============================] - 25s 245ms/step - loss: 0.1410 - accuracy: 0.9467 - val_loss: 0.3476 - val_accuracy: 0.8920\n",
      "Epoch 25/30\n",
      "100/100 [==============================] - 24s 238ms/step - loss: 0.1352 - accuracy: 0.9482 - val_loss: 0.3401 - val_accuracy: 0.8920\n",
      "Epoch 26/30\n",
      "100/100 [==============================] - 25s 245ms/step - loss: 0.1269 - accuracy: 0.9529 - val_loss: 0.3482 - val_accuracy: 0.8954\n",
      "Epoch 27/30\n",
      "100/100 [==============================] - 24s 244ms/step - loss: 0.1361 - accuracy: 0.9478 - val_loss: 0.3460 - val_accuracy: 0.8921\n",
      "Epoch 28/30\n",
      "100/100 [==============================] - 24s 240ms/step - loss: 0.1217 - accuracy: 0.9539 - val_loss: 0.3506 - val_accuracy: 0.8939\n",
      "Epoch 29/30\n",
      "100/100 [==============================] - 24s 241ms/step - loss: 0.1152 - accuracy: 0.9566 - val_loss: 0.3607 - val_accuracy: 0.8916\n",
      "Epoch 30/30\n",
      "100/100 [==============================] - 25s 247ms/step - loss: 0.1098 - accuracy: 0.9585 - val_loss: 0.3873 - val_accuracy: 0.8939\n",
      "Epoch 1/30\n",
      "100/100 [==============================] - 44s 441ms/step - loss: 0.5779 - accuracy: 0.7985 - val_loss: 0.4043 - val_accuracy: 0.8562\n",
      "Epoch 2/30\n",
      "100/100 [==============================] - 42s 416ms/step - loss: 0.3831 - accuracy: 0.8609 - val_loss: 0.3477 - val_accuracy: 0.8721\n",
      "Epoch 3/30\n",
      "100/100 [==============================] - 43s 427ms/step - loss: 0.3311 - accuracy: 0.8795 - val_loss: 0.3404 - val_accuracy: 0.8764\n",
      "Epoch 4/30\n",
      "100/100 [==============================] - 42s 419ms/step - loss: 0.3039 - accuracy: 0.8890 - val_loss: 0.3181 - val_accuracy: 0.8853\n",
      "Epoch 5/30\n",
      "100/100 [==============================] - 43s 427ms/step - loss: 0.2813 - accuracy: 0.8946 - val_loss: 0.3203 - val_accuracy: 0.8807\n",
      "Epoch 6/30\n",
      "100/100 [==============================] - 43s 426ms/step - loss: 0.2680 - accuracy: 0.8995 - val_loss: 0.3070 - val_accuracy: 0.8856\n",
      "Epoch 7/30\n",
      "100/100 [==============================] - 43s 427ms/step - loss: 0.2473 - accuracy: 0.9075 - val_loss: 0.3088 - val_accuracy: 0.8827\n",
      "Epoch 8/30\n",
      "100/100 [==============================] - 43s 434ms/step - loss: 0.2359 - accuracy: 0.9129 - val_loss: 0.2899 - val_accuracy: 0.8929\n",
      "Epoch 9/30\n",
      "100/100 [==============================] - 43s 428ms/step - loss: 0.2224 - accuracy: 0.9167 - val_loss: 0.2935 - val_accuracy: 0.8920\n",
      "Epoch 10/30\n",
      "100/100 [==============================] - 42s 424ms/step - loss: 0.2125 - accuracy: 0.9202 - val_loss: 0.2985 - val_accuracy: 0.8912\n",
      "Epoch 11/30\n",
      "100/100 [==============================] - 42s 423ms/step - loss: 0.2075 - accuracy: 0.9218 - val_loss: 0.3175 - val_accuracy: 0.8837\n",
      "Epoch 12/30\n",
      "100/100 [==============================] - 42s 418ms/step - loss: 0.1998 - accuracy: 0.9244 - val_loss: 0.2923 - val_accuracy: 0.8948\n",
      "Epoch 13/30\n",
      "100/100 [==============================] - 41s 407ms/step - loss: 0.1914 - accuracy: 0.9283 - val_loss: 0.3056 - val_accuracy: 0.8970\n",
      "Epoch 14/30\n",
      "100/100 [==============================] - 43s 431ms/step - loss: 0.1782 - accuracy: 0.9326 - val_loss: 0.3252 - val_accuracy: 0.8893\n",
      "Epoch 15/30\n",
      "100/100 [==============================] - 42s 417ms/step - loss: 0.1755 - accuracy: 0.9334 - val_loss: 0.3092 - val_accuracy: 0.8929\n",
      "Epoch 16/30\n",
      "100/100 [==============================] - 42s 420ms/step - loss: 0.1617 - accuracy: 0.9387 - val_loss: 0.2980 - val_accuracy: 0.9010\n",
      "Epoch 17/30\n",
      "100/100 [==============================] - 45s 451ms/step - loss: 0.1607 - accuracy: 0.9390 - val_loss: 0.2889 - val_accuracy: 0.9017\n",
      "Epoch 18/30\n",
      "100/100 [==============================] - 42s 422ms/step - loss: 0.1517 - accuracy: 0.9420 - val_loss: 0.3123 - val_accuracy: 0.8954\n",
      "Epoch 19/30\n",
      "100/100 [==============================] - 42s 417ms/step - loss: 0.1475 - accuracy: 0.9433 - val_loss: 0.3283 - val_accuracy: 0.8981\n",
      "Epoch 20/30\n",
      "100/100 [==============================] - 42s 422ms/step - loss: 0.1479 - accuracy: 0.9439 - val_loss: 0.3455 - val_accuracy: 0.8961\n",
      "Epoch 21/30\n",
      "100/100 [==============================] - 41s 409ms/step - loss: 0.1374 - accuracy: 0.9474 - val_loss: 0.3194 - val_accuracy: 0.9004\n",
      "Epoch 22/30\n",
      "100/100 [==============================] - 41s 408ms/step - loss: 0.1298 - accuracy: 0.9509 - val_loss: 0.3345 - val_accuracy: 0.8982\n",
      "Epoch 23/30\n",
      "100/100 [==============================] - 42s 419ms/step - loss: 0.1266 - accuracy: 0.9510 - val_loss: 0.3417 - val_accuracy: 0.8956\n",
      "Epoch 24/30\n",
      "100/100 [==============================] - 44s 443ms/step - loss: 0.1179 - accuracy: 0.9538 - val_loss: 0.3634 - val_accuracy: 0.8947\n",
      "Epoch 25/30\n",
      "100/100 [==============================] - 44s 436ms/step - loss: 0.1175 - accuracy: 0.9551 - val_loss: 0.3766 - val_accuracy: 0.8847\n",
      "Epoch 26/30\n",
      "100/100 [==============================] - 44s 438ms/step - loss: 0.1107 - accuracy: 0.9579 - val_loss: 0.3708 - val_accuracy: 0.8973\n",
      "Epoch 27/30\n",
      "100/100 [==============================] - 42s 418ms/step - loss: 0.1127 - accuracy: 0.9566 - val_loss: 0.3527 - val_accuracy: 0.8940\n",
      "Epoch 28/30\n",
      "100/100 [==============================] - 43s 430ms/step - loss: 0.1098 - accuracy: 0.9585 - val_loss: 0.3753 - val_accuracy: 0.8878\n",
      "Epoch 29/30\n",
      "100/100 [==============================] - 44s 442ms/step - loss: 0.1042 - accuracy: 0.9605 - val_loss: 0.3755 - val_accuracy: 0.8963\n",
      "Epoch 30/30\n",
      "100/100 [==============================] - 41s 414ms/step - loss: 0.0941 - accuracy: 0.9643 - val_loss: 0.4118 - val_accuracy: 0.9004\n"
     ]
    }
   ],
   "source": [
    "# my own code\n",
    "#list containing different number of neurons\n",
    "neuronsInLayer = [128,256, 512]\n",
    "#L2 regularizatin rate\n",
    "l2Rate = 0\n",
    "# drop out rate\n",
    "dropOutRate = 0\n",
    "#number of samples for validation\n",
    "validationSplit = 9000\n",
    "\n",
    "layerSizeCheckModel = []\n",
    "\n",
    "#loop over and run model with different number of neurons\n",
    "for i in neuronsInLayer:\n",
    "    eachModel = deepModel(trainingImages, trainingLabels, validationSplit, i, l2Rate, dropOutRate)\n",
    "    layerSizeCheckModel.append(eachModel)\n",
    "    \n",
    "#my own code ends here"
   ]
  },
  {
   "cell_type": "markdown",
   "metadata": {},
   "source": [
    "<div class=\"alert alert-block alert-info\">\n",
    "Now let visualize but first lets create a function for visualizaions\n",
    "    </div>"
   ]
  },
  {
   "cell_type": "code",
   "execution_count": 26,
   "metadata": {},
   "outputs": [],
   "source": [
    "#my own code starts from here\n",
    "import matplotlib.pyplot as plt\n",
    "from matplotlib.ticker import (MultipleLocator, AutoMinorLocator)\n",
    "\n",
    "\n",
    "def getVisuals(history, titles):\n",
    "    '''Function display 6 visualization in 2 * 3 format. 3 for validation loss of each model and 3 for validation \n",
    "    accuracy of each model.\n",
    "    \n",
    "    Parameters: history: Contains different models, titles: contains title for each. graph\n",
    "    \n",
    "    Output: displays graphs for 3 models validatio loss and validation accuracy in 2 * 3 format.\n",
    "    '''\n",
    "\n",
    "    #Create a grid with 2 x 3 Grid for subplots\n",
    "    fig, ax = plt.subplots(2,3,figsize=(21,12))\n",
    "\n",
    "\n",
    "    val_loss1 = history[0]['val_loss']\n",
    "    val_loss2 = history[1]['val_loss']\n",
    "    val_loss3 = history[2]['val_loss']\n",
    "\n",
    "    #Create the line plot\n",
    "    ax[0,0].plot(val_loss1, color = 'blue', lw = 1.2, label='Smaller Network', alpha = 0.8)\n",
    "    #Create second plot on same figure\n",
    "    ax[0,1].plot(val_loss2, color = 'red', lw = 1.2, label='Medium Network', alpha = 0.8)\n",
    "    #create third plot on same figure\n",
    "    ax[0,2].plot(val_loss3, color = 'green', lw = 1.2, label='Bigger Network', alpha = 0.8)\n",
    "    \n",
    "    # set titles for plots\n",
    "    ax[0,0].set_title(titles[0])\n",
    "    ax[0,1].set_title(titles[1])\n",
    "    ax[0,2].set_title(titles[2])\n",
    "    \n",
    "    #Set minor ticks on x-axis for each plot\n",
    "    for i in range(2):\n",
    "        for j in range(3):\n",
    "            ax[i,j].grid(True)\n",
    "            ax[i,j].xaxis.set_minor_locator(MultipleLocator(1))\n",
    "\n",
    "\n",
    "\n",
    "\n",
    "    val_accuracy1 = history[0]['val_accuracy']\n",
    "    val_accuracy2 = history[1]['val_accuracy']\n",
    "    val_accuracy3 = history[2]['val_accuracy']\n",
    "\n",
    "    #Create the line plot\n",
    "    ax[1,0].plot(val_accuracy1, color = 'blue', lw = 1.2, label='Smaller Network', alpha = 0.8)\n",
    "    #Create second plot on same figure\n",
    "    ax[1,1].plot(val_accuracy2, color = 'red', lw = 1.2, label='Medium Network', alpha = 0.8)\n",
    "    #create thurd plot on same figure\n",
    "    ax[1,2].plot(val_accuracy3, color = 'green', lw = 1.2, label='Bigger Network', alpha = 0.8)\n",
    "    \n",
    "    #sset title sofr plots\n",
    "    ax[1,0].set_title(titles[3])\n",
    "    ax[1,1].set_title(titles[4])\n",
    "    ax[1,2].set_title(titles[5])\n",
    "\n",
    "#my own code ends here        "
   ]
  },
  {
   "cell_type": "markdown",
   "metadata": {},
   "source": [
    "<div class=\"alert alert-block alert-info\">\n",
    "Now lets call the function to display each models performance through graph of each models validation loss and validation accuracy\n",
    "</div>"
   ]
  },
  {
   "cell_type": "code",
   "execution_count": 62,
   "metadata": {
    "scrolled": false
   },
   "outputs": [
    {
     "data": {
      "image/png": "[encoded data removed]",
      "text/plain": [
       "<Figure size 1512x864 with 6 Axes>"
      ]
     },
     "metadata": {
      "needs_background": "light"
     },
     "output_type": "display_data"
    }
   ],
   "source": [
    "#my own code start here\n",
    "#list of different titles for graphs\n",
    "layerSizetitles = ['val loss of 128 Model', 'val loss of 256 Model', 'val loss of 512 Model',\n",
    "                   'val acc of 128 Model', 'val acc of 256 Model', 'val acc of 512 Model']\n",
    "#function call to display the graphs\n",
    "getVisuals(layerSizeCheckModel, layerSizetitles)\n",
    "#my own code ends here"
   ]
  },
  {
   "cell_type": "markdown",
   "metadata": {},
   "source": [
    "<div class=\"alert alert-block alert-success\">\n",
    "First let's see the validation loss of 128 Capacity Model. It shows signs of overfitting around 11th epoch when it start to go up but it changes direction again and reaches the minimum loss around 17th epoch. The 256 Model Reaches its minumum point on 8th epoch and then starts to overfit. The 512 Model reaches it minimum point in validation loss in 6-7th epoch. It goes up again and then comes down to. almost same minimum point in 16th epoch but starts to overfit. The graph of validation loss for 512 Model shows the most noise. It's more volatile.\n",
    "\n",
    "Notice: 512 model have different scalling here than the one in last sections\n",
    "\n",
    "The validation accuracy for 128 Model overfits after 17th epoch, the validation accuracy reaches it's peak in 16th epoch and then stays starts to overfit. In 512 Model the validation accuracy is highest at 16th-17th epcoch but again it is much noisier. \n",
    "\n",
    "So according to the above graph and the conclusions from these graphs the best model to continue from here is the 128 Model as starts later or almost equal to other models, but it is less noisier and as number of neurons are less it will take less computational power. Next we will try to mitgiate overfitting use Weighted L2 regularization.\n",
    "    </div"
   ]
  },
  {
   "cell_type": "markdown",
   "metadata": {},
   "source": [
    "<div class=\"alert alert-block alert-info\">\n",
    "<h4> 4.Adding Weighted L2 regularitzatio by using best network size we just obtained </h4>\n",
    "<p>So in the last section we selected the best network capacity for our model which was 128 neurons. Now we will compare our original model which has no L2 regularization with 2 other model with different L2 regularizations rate 0.0001 and 0.001. We repreat the samr pocedure again except this time instead of passing different neurons we will be passing different l2 Rate.\n",
    "\n",
    "Note: L2 rate 0 means no l2 regularization will be done.</p>\n",
    "</div>"
   ]
  },
  {
   "cell_type": "code",
   "execution_count": 25,
   "metadata": {
    "scrolled": false
   },
   "outputs": [
    {
     "name": "stdout",
     "output_type": "stream",
     "text": [
      "Epoch 1/30\n",
      "100/100 [==============================] - 13s 134ms/step - loss: 0.7075 - accuracy: 0.7639 - val_loss: 0.4626 - val_accuracy: 0.8387\n",
      "Epoch 2/30\n",
      "100/100 [==============================] - 13s 132ms/step - loss: 0.4420 - accuracy: 0.8428 - val_loss: 0.4270 - val_accuracy: 0.8484\n",
      "Epoch 3/30\n",
      "100/100 [==============================] - 13s 132ms/step - loss: 0.3980 - accuracy: 0.8573 - val_loss: 0.4231 - val_accuracy: 0.8503\n",
      "Epoch 4/30\n",
      "100/100 [==============================] - 13s 130ms/step - loss: 0.3604 - accuracy: 0.8703 - val_loss: 0.3647 - val_accuracy: 0.8677\n",
      "Epoch 5/30\n",
      "100/100 [==============================] - 14s 138ms/step - loss: 0.3441 - accuracy: 0.8750 - val_loss: 0.3527 - val_accuracy: 0.8733\n",
      "Epoch 6/30\n",
      "100/100 [==============================] - 13s 128ms/step - loss: 0.3200 - accuracy: 0.8830 - val_loss: 0.3422 - val_accuracy: 0.8762\n",
      "Epoch 7/30\n",
      "100/100 [==============================] - 14s 138ms/step - loss: 0.3097 - accuracy: 0.8864 - val_loss: 0.3333 - val_accuracy: 0.8792\n",
      "Epoch 8/30\n",
      "100/100 [==============================] - 14s 140ms/step - loss: 0.2943 - accuracy: 0.8930 - val_loss: 0.3222 - val_accuracy: 0.8840\n",
      "Epoch 9/30\n",
      "100/100 [==============================] - 13s 134ms/step - loss: 0.2837 - accuracy: 0.8959 - val_loss: 0.3262 - val_accuracy: 0.8798\n",
      "Epoch 10/30\n",
      "100/100 [==============================] - 13s 131ms/step - loss: 0.2736 - accuracy: 0.8992 - val_loss: 0.3214 - val_accuracy: 0.8852\n",
      "Epoch 11/30\n",
      "100/100 [==============================] - 13s 131ms/step - loss: 0.2658 - accuracy: 0.9017 - val_loss: 0.3211 - val_accuracy: 0.8854\n",
      "Epoch 12/30\n",
      "100/100 [==============================] - 13s 133ms/step - loss: 0.2595 - accuracy: 0.9039 - val_loss: 0.3286 - val_accuracy: 0.8830\n",
      "Epoch 13/30\n",
      "100/100 [==============================] - 13s 133ms/step - loss: 0.2460 - accuracy: 0.9080 - val_loss: 0.3073 - val_accuracy: 0.8933\n",
      "Epoch 14/30\n",
      "100/100 [==============================] - 13s 128ms/step - loss: 0.2417 - accuracy: 0.9106 - val_loss: 0.3175 - val_accuracy: 0.8854\n",
      "Epoch 15/30\n",
      "100/100 [==============================] - 13s 132ms/step - loss: 0.2345 - accuracy: 0.9131 - val_loss: 0.3122 - val_accuracy: 0.8901\n",
      "Epoch 16/30\n",
      "100/100 [==============================] - 14s 135ms/step - loss: 0.2319 - accuracy: 0.9141 - val_loss: 0.3210 - val_accuracy: 0.8882\n",
      "Epoch 17/30\n",
      "100/100 [==============================] - 14s 144ms/step - loss: 0.2235 - accuracy: 0.9165 - val_loss: 0.3089 - val_accuracy: 0.8887\n",
      "Epoch 18/30\n",
      "100/100 [==============================] - 14s 142ms/step - loss: 0.2162 - accuracy: 0.9195 - val_loss: 0.3091 - val_accuracy: 0.8890\n",
      "Epoch 19/30\n",
      "100/100 [==============================] - 14s 136ms/step - loss: 0.2130 - accuracy: 0.9206 - val_loss: 0.3175 - val_accuracy: 0.8879\n",
      "Epoch 20/30\n",
      "100/100 [==============================] - 13s 134ms/step - loss: 0.2108 - accuracy: 0.9218 - val_loss: 0.3112 - val_accuracy: 0.8873\n",
      "Epoch 21/30\n",
      "100/100 [==============================] - 13s 129ms/step - loss: 0.1972 - accuracy: 0.9270 - val_loss: 0.3170 - val_accuracy: 0.8917\n",
      "Epoch 22/30\n",
      "100/100 [==============================] - 14s 140ms/step - loss: 0.1960 - accuracy: 0.9271 - val_loss: 0.3150 - val_accuracy: 0.8926\n",
      "Epoch 23/30\n",
      "100/100 [==============================] - 13s 133ms/step - loss: 0.1890 - accuracy: 0.9296 - val_loss: 0.3130 - val_accuracy: 0.8913\n",
      "Epoch 24/30\n",
      "100/100 [==============================] - 13s 134ms/step - loss: 0.1820 - accuracy: 0.9320 - val_loss: 0.3317 - val_accuracy: 0.8871\n",
      "Epoch 25/30\n",
      "100/100 [==============================] - 13s 134ms/step - loss: 0.1806 - accuracy: 0.9327 - val_loss: 0.3268 - val_accuracy: 0.8876\n",
      "Epoch 26/30\n",
      "100/100 [==============================] - 14s 141ms/step - loss: 0.1822 - accuracy: 0.9320 - val_loss: 0.3208 - val_accuracy: 0.8903\n",
      "Epoch 27/30\n",
      "100/100 [==============================] - 13s 133ms/step - loss: 0.1702 - accuracy: 0.9370 - val_loss: 0.3276 - val_accuracy: 0.8883\n",
      "Epoch 28/30\n",
      "100/100 [==============================] - 13s 132ms/step - loss: 0.1660 - accuracy: 0.9380 - val_loss: 0.3276 - val_accuracy: 0.8922\n",
      "Epoch 29/30\n",
      "100/100 [==============================] - 14s 138ms/step - loss: 0.1575 - accuracy: 0.9409 - val_loss: 0.3237 - val_accuracy: 0.8951\n",
      "Epoch 30/30\n",
      "100/100 [==============================] - 12s 119ms/step - loss: 0.1590 - accuracy: 0.9418 - val_loss: 0.3607 - val_accuracy: 0.8880\n",
      "Epoch 1/30\n",
      "100/100 [==============================] - 14s 144ms/step - loss: 0.7848 - accuracy: 0.7547 - val_loss: 0.5197 - val_accuracy: 0.8359\n",
      "Epoch 2/30\n",
      "100/100 [==============================] - 13s 129ms/step - loss: 0.4832 - accuracy: 0.8454 - val_loss: 0.4739 - val_accuracy: 0.8502\n",
      "Epoch 3/30\n",
      "100/100 [==============================] - 13s 128ms/step - loss: 0.4382 - accuracy: 0.8596 - val_loss: 0.4195 - val_accuracy: 0.8663\n",
      "Epoch 4/30\n",
      "100/100 [==============================] - 13s 133ms/step - loss: 0.4163 - accuracy: 0.8675 - val_loss: 0.4241 - val_accuracy: 0.8652\n",
      "Epoch 5/30\n",
      "100/100 [==============================] - 13s 128ms/step - loss: 0.3853 - accuracy: 0.8771 - val_loss: 0.4044 - val_accuracy: 0.8728\n",
      "Epoch 6/30\n",
      "100/100 [==============================] - 13s 131ms/step - loss: 0.3762 - accuracy: 0.8814 - val_loss: 0.3806 - val_accuracy: 0.8787\n",
      "Epoch 7/30\n",
      "100/100 [==============================] - 13s 129ms/step - loss: 0.3609 - accuracy: 0.8863 - val_loss: 0.3717 - val_accuracy: 0.8842\n",
      "Epoch 8/30\n",
      "100/100 [==============================] - 13s 130ms/step - loss: 0.3497 - accuracy: 0.8904 - val_loss: 0.3756 - val_accuracy: 0.8783\n",
      "Epoch 9/30\n",
      "100/100 [==============================] - 13s 130ms/step - loss: 0.3402 - accuracy: 0.8921 - val_loss: 0.3696 - val_accuracy: 0.8836\n",
      "Epoch 10/30\n",
      "100/100 [==============================] - 13s 130ms/step - loss: 0.3315 - accuracy: 0.8955 - val_loss: 0.3707 - val_accuracy: 0.8811\n",
      "Epoch 11/30\n",
      "100/100 [==============================] - 13s 126ms/step - loss: 0.3225 - accuracy: 0.8996 - val_loss: 0.3727 - val_accuracy: 0.8781\n",
      "Epoch 12/30\n",
      "100/100 [==============================] - 13s 127ms/step - loss: 0.3130 - accuracy: 0.9029 - val_loss: 0.3867 - val_accuracy: 0.8823\n",
      "Epoch 13/30\n",
      "100/100 [==============================] - 12s 122ms/step - loss: 0.3084 - accuracy: 0.9043 - val_loss: 0.3558 - val_accuracy: 0.8859\n",
      "Epoch 14/30\n",
      "100/100 [==============================] - 13s 135ms/step - loss: 0.2995 - accuracy: 0.9069 - val_loss: 0.3559 - val_accuracy: 0.8909\n",
      "Epoch 15/30\n",
      "100/100 [==============================] - 13s 133ms/step - loss: 0.2959 - accuracy: 0.9087 - val_loss: 0.3625 - val_accuracy: 0.8860\n",
      "Epoch 16/30\n",
      "100/100 [==============================] - 14s 136ms/step - loss: 0.2865 - accuracy: 0.9127 - val_loss: 0.3666 - val_accuracy: 0.8851\n",
      "Epoch 17/30\n",
      "100/100 [==============================] - 14s 135ms/step - loss: 0.2842 - accuracy: 0.9136 - val_loss: 0.3562 - val_accuracy: 0.8877\n",
      "Epoch 18/30\n",
      "100/100 [==============================] - 13s 125ms/step - loss: 0.2757 - accuracy: 0.9165 - val_loss: 0.3566 - val_accuracy: 0.8939\n",
      "Epoch 19/30\n",
      "100/100 [==============================] - 13s 126ms/step - loss: 0.2811 - accuracy: 0.9147 - val_loss: 0.3636 - val_accuracy: 0.8887\n",
      "Epoch 20/30\n",
      "100/100 [==============================] - 12s 123ms/step - loss: 0.2743 - accuracy: 0.9170 - val_loss: 0.3676 - val_accuracy: 0.8883\n",
      "Epoch 21/30\n",
      "100/100 [==============================] - 12s 124ms/step - loss: 0.2701 - accuracy: 0.9190 - val_loss: 0.3512 - val_accuracy: 0.8922\n",
      "Epoch 22/30\n",
      "100/100 [==============================] - 13s 127ms/step - loss: 0.2609 - accuracy: 0.9225 - val_loss: 0.3612 - val_accuracy: 0.8952\n",
      "Epoch 23/30\n",
      "100/100 [==============================] - 13s 125ms/step - loss: 0.2580 - accuracy: 0.9235 - val_loss: 0.3620 - val_accuracy: 0.8858\n",
      "Epoch 24/30\n",
      "100/100 [==============================] - 13s 128ms/step - loss: 0.2511 - accuracy: 0.9261 - val_loss: 0.3692 - val_accuracy: 0.8850\n",
      "Epoch 25/30\n",
      "100/100 [==============================] - 13s 127ms/step - loss: 0.2499 - accuracy: 0.9265 - val_loss: 0.3683 - val_accuracy: 0.8898\n",
      "Epoch 26/30\n",
      "100/100 [==============================] - 12s 119ms/step - loss: 0.2403 - accuracy: 0.9302 - val_loss: 0.3565 - val_accuracy: 0.8924\n",
      "Epoch 27/30\n",
      "100/100 [==============================] - 12s 122ms/step - loss: 0.2386 - accuracy: 0.9307 - val_loss: 0.3701 - val_accuracy: 0.8892\n",
      "Epoch 28/30\n",
      "100/100 [==============================] - 12s 120ms/step - loss: 0.2365 - accuracy: 0.9313 - val_loss: 0.3907 - val_accuracy: 0.8788\n",
      "Epoch 29/30\n",
      "100/100 [==============================] - 12s 119ms/step - loss: 0.2346 - accuracy: 0.9318 - val_loss: 0.3774 - val_accuracy: 0.8927\n",
      "Epoch 30/30\n",
      "100/100 [==============================] - 11s 111ms/step - loss: 0.2257 - accuracy: 0.9361 - val_loss: 0.3668 - val_accuracy: 0.8922\n",
      "Epoch 1/30\n",
      "100/100 [==============================] - 13s 132ms/step - loss: 1.1245 - accuracy: 0.7523 - val_loss: 0.8098 - val_accuracy: 0.8350\n",
      "Epoch 2/30\n",
      "100/100 [==============================] - 13s 134ms/step - loss: 0.7595 - accuracy: 0.8415 - val_loss: 0.7320 - val_accuracy: 0.8412\n",
      "Epoch 3/30\n",
      "100/100 [==============================] - 13s 125ms/step - loss: 0.6778 - accuracy: 0.8566 - val_loss: 0.6575 - val_accuracy: 0.8567\n",
      "Epoch 4/30\n",
      "100/100 [==============================] - 12s 123ms/step - loss: 0.6388 - accuracy: 0.8596 - val_loss: 0.6402 - val_accuracy: 0.8594\n",
      "Epoch 5/30\n",
      "100/100 [==============================] - 12s 120ms/step - loss: 0.5989 - accuracy: 0.8683 - val_loss: 0.6121 - val_accuracy: 0.8617\n",
      "Epoch 6/30\n",
      "100/100 [==============================] - 12s 119ms/step - loss: 0.5746 - accuracy: 0.8710 - val_loss: 0.5778 - val_accuracy: 0.8662\n",
      "Epoch 7/30\n",
      "100/100 [==============================] - 12s 122ms/step - loss: 0.5515 - accuracy: 0.8747 - val_loss: 0.5614 - val_accuracy: 0.8689\n",
      "Epoch 8/30\n",
      "100/100 [==============================] - 12s 120ms/step - loss: 0.5328 - accuracy: 0.8775 - val_loss: 0.5234 - val_accuracy: 0.8802\n",
      "Epoch 9/30\n",
      "100/100 [==============================] - 13s 130ms/step - loss: 0.5100 - accuracy: 0.8824 - val_loss: 0.5333 - val_accuracy: 0.8684\n",
      "Epoch 10/30\n",
      "100/100 [==============================] - 13s 132ms/step - loss: 0.5023 - accuracy: 0.8814 - val_loss: 0.5197 - val_accuracy: 0.8723\n",
      "Epoch 11/30\n",
      "100/100 [==============================] - 13s 127ms/step - loss: 0.4863 - accuracy: 0.8852 - val_loss: 0.5020 - val_accuracy: 0.8811\n",
      "Epoch 12/30\n",
      "100/100 [==============================] - 12s 123ms/step - loss: 0.4774 - accuracy: 0.8844 - val_loss: 0.5001 - val_accuracy: 0.8732\n",
      "Epoch 13/30\n",
      "100/100 [==============================] - 12s 125ms/step - loss: 0.4637 - accuracy: 0.8892 - val_loss: 0.4781 - val_accuracy: 0.8832\n",
      "Epoch 14/30\n",
      "100/100 [==============================] - 12s 121ms/step - loss: 0.4550 - accuracy: 0.8889 - val_loss: 0.4870 - val_accuracy: 0.8760\n",
      "Epoch 15/30\n",
      "100/100 [==============================] - 12s 116ms/step - loss: 0.4465 - accuracy: 0.8901 - val_loss: 0.4598 - val_accuracy: 0.8872\n",
      "Epoch 16/30\n",
      "100/100 [==============================] - 13s 131ms/step - loss: 0.4333 - accuracy: 0.8935 - val_loss: 0.4622 - val_accuracy: 0.8836\n",
      "Epoch 17/30\n",
      "100/100 [==============================] - 13s 127ms/step - loss: 0.4310 - accuracy: 0.8920 - val_loss: 0.4559 - val_accuracy: 0.8814\n",
      "Epoch 18/30\n",
      "100/100 [==============================] - 12s 121ms/step - loss: 0.4223 - accuracy: 0.8942 - val_loss: 0.4501 - val_accuracy: 0.8832\n",
      "Epoch 19/30\n",
      "100/100 [==============================] - 12s 122ms/step - loss: 0.4181 - accuracy: 0.8949 - val_loss: 0.4392 - val_accuracy: 0.8868\n",
      "Epoch 20/30\n",
      "100/100 [==============================] - 13s 130ms/step - loss: 0.4107 - accuracy: 0.8977 - val_loss: 0.4608 - val_accuracy: 0.8767\n",
      "Epoch 21/30\n",
      "100/100 [==============================] - 12s 121ms/step - loss: 0.4121 - accuracy: 0.8940 - val_loss: 0.4339 - val_accuracy: 0.8877\n",
      "Epoch 22/30\n",
      "100/100 [==============================] - 12s 120ms/step - loss: 0.3973 - accuracy: 0.8995 - val_loss: 0.4305 - val_accuracy: 0.8899\n",
      "Epoch 23/30\n",
      "100/100 [==============================] - 12s 121ms/step - loss: 0.3922 - accuracy: 0.9007 - val_loss: 0.4329 - val_accuracy: 0.8851\n",
      "Epoch 24/30\n",
      "100/100 [==============================] - 12s 120ms/step - loss: 0.3903 - accuracy: 0.9001 - val_loss: 0.4299 - val_accuracy: 0.8828\n",
      "Epoch 25/30\n",
      "100/100 [==============================] - 12s 124ms/step - loss: 0.3806 - accuracy: 0.9033 - val_loss: 0.4343 - val_accuracy: 0.8831\n",
      "Epoch 26/30\n",
      "100/100 [==============================] - 12s 124ms/step - loss: 0.3790 - accuracy: 0.9037 - val_loss: 0.4226 - val_accuracy: 0.8874\n",
      "Epoch 27/30\n",
      "100/100 [==============================] - 13s 126ms/step - loss: 0.3758 - accuracy: 0.9035 - val_loss: 0.4210 - val_accuracy: 0.8897\n",
      "Epoch 28/30\n",
      "100/100 [==============================] - 13s 128ms/step - loss: 0.3789 - accuracy: 0.9016 - val_loss: 0.4418 - val_accuracy: 0.8806\n",
      "Epoch 29/30\n",
      "100/100 [==============================] - 13s 134ms/step - loss: 0.3731 - accuracy: 0.9037 - val_loss: 0.4252 - val_accuracy: 0.8850\n",
      "Epoch 30/30\n",
      "100/100 [==============================] - 12s 117ms/step - loss: 0.3653 - accuracy: 0.9059 - val_loss: 0.4133 - val_accuracy: 0.8878\n"
     ]
    }
   ],
   "source": [
    "#my own code start here\n",
    "#number of neurons in each layer\n",
    "neuronsInLayer = 128\n",
    "#list of different l2 rates\n",
    "l2Rate = [0, 0.0001, 0.001]\n",
    "eachModel = 0\n",
    "#drop out rate\n",
    "dropOutRate = 0\n",
    "#samples to be separated for validation\n",
    "validationSplit = 9000\n",
    "l2CheckModel = []\n",
    "\n",
    "#run the model with different l2 rates\n",
    "for i in l2Rate:\n",
    "    eachModel = deepModel(trainingImages, trainingLabels, validationSplit, neuronsInLayer, i, dropOutRate)\n",
    "    l2CheckModel.append(eachModel)\n",
    "    \n",
    "#my own code ends here"
   ]
  },
  {
   "cell_type": "markdown",
   "metadata": {},
   "source": [
    "<div class=\"alert alert-block alert-info\">\n",
    "Now lets get graphs of how our models performed.\n",
    "    </div>"
   ]
  },
  {
   "cell_type": "code",
   "execution_count": 27,
   "metadata": {
    "scrolled": false
   },
   "outputs": [
    {
     "data": {
      "image/png": "[encoded data removed]",
      "text/plain": [
       "<Figure size 1512x864 with 6 Axes>"
      ]
     },
     "metadata": {
      "needs_background": "light"
     },
     "output_type": "display_data"
    }
   ],
   "source": [
    "#my own code starts here\n",
    "#lists for titles of graphs\n",
    "l2RateTitles = ['val loss of 0 L2 Rate', 'val loss of 0.0001 L2 Rate', 'val loss of 0.001 L2 Rate',\n",
    "                   'val acc of 0 L2 Rate', 'val acc of 0.0001 L2 Rate', 'val acc of 0.001 L2 Rate']\n",
    "#function call to show visualizations\n",
    "getVisuals(l2CheckModel, l2RateTitles)\n",
    "#my own code ends here"
   ]
  },
  {
   "cell_type": "markdown",
   "metadata": {},
   "source": [
    "<div class=\"alert alert-block alert-success\">\n",
    "<b>Validation loss:</b> The model with 0.0001 L2 Rate overfits after 20th epoch if we see the validation loss graph. It has lowest validation loss around 0.350. Model with 0 L2 rate has lowest validation loss rate around 0.31 and over fits after 11th-12th epoch. Model with  0.001 L2 Rate shows no signs of oveerfitting but it's lowest accuracyis hugh around 0.42. \n",
    "    \n",
    "<b>Validation accuracy: </b>The model with 0.0001 L2 Rate stays steady after continuously increaseing till 12th epoch. It later on eventually overfits. Model with 0 L2 rate has validation accuracy rate around 22nd epoch. Model with  0.001 L2 Rate shows no less signs of over fitting.\n",
    "    \n",
    "So we decided to chose l2Rate 0.0001 as it although limitedly but still reduces overfitting, that is the reason it is chosen over original 0 l2 rate model. The reason we did not chose l2 rate 0.001 model because it althugh performed good with overfitting but there was too much compromise with loss as it had a high minumium loss.\n",
    "</div>"
   ]
  },
  {
   "cell_type": "markdown",
   "metadata": {},
   "source": [
    "<div class=\"alert alert-block alert-info\">\n",
    "<h4> Adding Drop Out </h4>\n",
    "<p>In this section we are going to apply another regularization technique called dropout. So in the last section we selected the L2 Regularization for our model with 0.0001. Now we will compare our original model which has no Drop Out regularization with 2 other models with different Drop Out Rates rate 0.2 and 0.5. We repreat the same pocedure again except this time we'll be passing different dropout rates.\n",
    "\n",
    "Note: Drop Out rate 0 means no Drop Out will be done.</p></div>"
   ]
  },
  {
   "cell_type": "code",
   "execution_count": 28,
   "metadata": {
    "scrolled": false
   },
   "outputs": [
    {
     "name": "stdout",
     "output_type": "stream",
     "text": [
      "Epoch 1/30\n",
      "100/100 [==============================] - 14s 141ms/step - loss: 0.7810 - accuracy: 0.7483 - val_loss: 0.5259 - val_accuracy: 0.8307\n",
      "Epoch 2/30\n",
      "100/100 [==============================] - 13s 130ms/step - loss: 0.4924 - accuracy: 0.8421 - val_loss: 0.4804 - val_accuracy: 0.8428\n",
      "Epoch 3/30\n",
      "100/100 [==============================] - 12s 125ms/step - loss: 0.4416 - accuracy: 0.8581 - val_loss: 0.4333 - val_accuracy: 0.8634\n",
      "Epoch 4/30\n",
      "100/100 [==============================] - 12s 123ms/step - loss: 0.4106 - accuracy: 0.8664 - val_loss: 0.4150 - val_accuracy: 0.8627\n",
      "Epoch 5/30\n",
      "100/100 [==============================] - 12s 119ms/step - loss: 0.3894 - accuracy: 0.8755 - val_loss: 0.3868 - val_accuracy: 0.8734\n",
      "Epoch 6/30\n",
      "100/100 [==============================] - 12s 117ms/step - loss: 0.3716 - accuracy: 0.8803 - val_loss: 0.3892 - val_accuracy: 0.8730\n",
      "Epoch 7/30\n",
      "100/100 [==============================] - 12s 118ms/step - loss: 0.3588 - accuracy: 0.8858 - val_loss: 0.3912 - val_accuracy: 0.8702\n",
      "Epoch 8/30\n",
      "100/100 [==============================] - 12s 124ms/step - loss: 0.3462 - accuracy: 0.8890 - val_loss: 0.3753 - val_accuracy: 0.8774\n",
      "Epoch 9/30\n",
      "100/100 [==============================] - 12s 123ms/step - loss: 0.3359 - accuracy: 0.8923 - val_loss: 0.3656 - val_accuracy: 0.8806\n",
      "Epoch 10/30\n",
      "100/100 [==============================] - 13s 128ms/step - loss: 0.3313 - accuracy: 0.8950 - val_loss: 0.3784 - val_accuracy: 0.8786\n",
      "Epoch 11/30\n",
      "100/100 [==============================] - 13s 129ms/step - loss: 0.3221 - accuracy: 0.8989 - val_loss: 0.3658 - val_accuracy: 0.8830\n",
      "Epoch 12/30\n",
      "100/100 [==============================] - 12s 122ms/step - loss: 0.3111 - accuracy: 0.9025 - val_loss: 0.3583 - val_accuracy: 0.8857\n",
      "Epoch 13/30\n",
      "100/100 [==============================] - 12s 123ms/step - loss: 0.3123 - accuracy: 0.9018 - val_loss: 0.3756 - val_accuracy: 0.8791\n",
      "Epoch 14/30\n",
      "100/100 [==============================] - 13s 125ms/step - loss: 0.3021 - accuracy: 0.9054 - val_loss: 0.3560 - val_accuracy: 0.8857\n",
      "Epoch 15/30\n",
      "100/100 [==============================] - 12s 122ms/step - loss: 0.2930 - accuracy: 0.9091 - val_loss: 0.3597 - val_accuracy: 0.8826\n",
      "Epoch 16/30\n",
      "100/100 [==============================] - 12s 117ms/step - loss: 0.2952 - accuracy: 0.9069 - val_loss: 0.3588 - val_accuracy: 0.8896\n",
      "Epoch 17/30\n",
      "100/100 [==============================] - 12s 118ms/step - loss: 0.2839 - accuracy: 0.9123 - val_loss: 0.3459 - val_accuracy: 0.8883\n",
      "Epoch 18/30\n",
      "100/100 [==============================] - 12s 124ms/step - loss: 0.2818 - accuracy: 0.9129 - val_loss: 0.3484 - val_accuracy: 0.8889\n",
      "Epoch 19/30\n",
      "100/100 [==============================] - 12s 121ms/step - loss: 0.2737 - accuracy: 0.9167 - val_loss: 0.3589 - val_accuracy: 0.8870\n",
      "Epoch 20/30\n",
      "100/100 [==============================] - 13s 126ms/step - loss: 0.2680 - accuracy: 0.9183 - val_loss: 0.3573 - val_accuracy: 0.8871\n",
      "Epoch 21/30\n",
      "100/100 [==============================] - 13s 128ms/step - loss: 0.2660 - accuracy: 0.9200 - val_loss: 0.3526 - val_accuracy: 0.8891\n",
      "Epoch 22/30\n",
      "100/100 [==============================] - 13s 126ms/step - loss: 0.2596 - accuracy: 0.9215 - val_loss: 0.3615 - val_accuracy: 0.8860\n",
      "Epoch 23/30\n",
      "100/100 [==============================] - 13s 132ms/step - loss: 0.2564 - accuracy: 0.9226 - val_loss: 0.3627 - val_accuracy: 0.8872\n",
      "Epoch 24/30\n",
      "100/100 [==============================] - 12s 122ms/step - loss: 0.2544 - accuracy: 0.9250 - val_loss: 0.3483 - val_accuracy: 0.8889\n",
      "Epoch 25/30\n",
      "100/100 [==============================] - 12s 123ms/step - loss: 0.2558 - accuracy: 0.9229 - val_loss: 0.3513 - val_accuracy: 0.8927\n",
      "Epoch 26/30\n",
      "100/100 [==============================] - 12s 123ms/step - loss: 0.2472 - accuracy: 0.9273 - val_loss: 0.3591 - val_accuracy: 0.8897\n",
      "Epoch 27/30\n",
      "100/100 [==============================] - 12s 121ms/step - loss: 0.2490 - accuracy: 0.9269 - val_loss: 0.3666 - val_accuracy: 0.8861\n",
      "Epoch 28/30\n",
      "100/100 [==============================] - 12s 121ms/step - loss: 0.2398 - accuracy: 0.9304 - val_loss: 0.3651 - val_accuracy: 0.8909\n",
      "Epoch 29/30\n",
      "100/100 [==============================] - 12s 122ms/step - loss: 0.2379 - accuracy: 0.9307 - val_loss: 0.3623 - val_accuracy: 0.8861\n",
      "Epoch 30/30\n",
      "100/100 [==============================] - 11s 114ms/step - loss: 0.2358 - accuracy: 0.9308 - val_loss: 0.3597 - val_accuracy: 0.8932\n",
      "Epoch 1/30\n",
      "100/100 [==============================] - 13s 130ms/step - loss: 0.9711 - accuracy: 0.6666 - val_loss: 0.5527 - val_accuracy: 0.8182\n",
      "Epoch 2/30\n",
      "100/100 [==============================] - 13s 128ms/step - loss: 0.5677 - accuracy: 0.8151 - val_loss: 0.4731 - val_accuracy: 0.8433\n",
      "Epoch 3/30\n",
      "100/100 [==============================] - 13s 126ms/step - loss: 0.4977 - accuracy: 0.8392 - val_loss: 0.4294 - val_accuracy: 0.8586\n",
      "Epoch 4/30\n",
      "100/100 [==============================] - 13s 126ms/step - loss: 0.4620 - accuracy: 0.8521 - val_loss: 0.4130 - val_accuracy: 0.8634\n",
      "Epoch 5/30\n",
      "100/100 [==============================] - 13s 125ms/step - loss: 0.4318 - accuracy: 0.8611 - val_loss: 0.4023 - val_accuracy: 0.8663\n",
      "Epoch 6/30\n",
      "100/100 [==============================] - 12s 120ms/step - loss: 0.4180 - accuracy: 0.8660 - val_loss: 0.4054 - val_accuracy: 0.8666\n",
      "Epoch 7/30\n",
      "100/100 [==============================] - 12s 122ms/step - loss: 0.4090 - accuracy: 0.8688 - val_loss: 0.3822 - val_accuracy: 0.8790\n",
      "Epoch 8/30\n",
      "100/100 [==============================] - 12s 122ms/step - loss: 0.3974 - accuracy: 0.8747 - val_loss: 0.3745 - val_accuracy: 0.8760\n",
      "Epoch 9/30\n",
      "100/100 [==============================] - 12s 124ms/step - loss: 0.3849 - accuracy: 0.8787 - val_loss: 0.3742 - val_accuracy: 0.8793\n",
      "Epoch 10/30\n",
      "100/100 [==============================] - 12s 119ms/step - loss: 0.3775 - accuracy: 0.8789 - val_loss: 0.3685 - val_accuracy: 0.8813\n",
      "Epoch 11/30\n",
      "100/100 [==============================] - 12s 122ms/step - loss: 0.3710 - accuracy: 0.8808 - val_loss: 0.3610 - val_accuracy: 0.8848\n",
      "Epoch 12/30\n",
      "100/100 [==============================] - 12s 121ms/step - loss: 0.3622 - accuracy: 0.8840 - val_loss: 0.3756 - val_accuracy: 0.8810\n",
      "Epoch 13/30\n",
      "100/100 [==============================] - 12s 118ms/step - loss: 0.3547 - accuracy: 0.8871 - val_loss: 0.3680 - val_accuracy: 0.8842\n",
      "Epoch 14/30\n",
      "100/100 [==============================] - 12s 120ms/step - loss: 0.3537 - accuracy: 0.8882 - val_loss: 0.3506 - val_accuracy: 0.8869\n",
      "Epoch 15/30\n",
      "100/100 [==============================] - 12s 123ms/step - loss: 0.3499 - accuracy: 0.8882 - val_loss: 0.3717 - val_accuracy: 0.8827\n",
      "Epoch 16/30\n",
      "100/100 [==============================] - 12s 121ms/step - loss: 0.3436 - accuracy: 0.8909 - val_loss: 0.3494 - val_accuracy: 0.8904\n",
      "Epoch 17/30\n",
      "100/100 [==============================] - 13s 127ms/step - loss: 0.3401 - accuracy: 0.8917 - val_loss: 0.3552 - val_accuracy: 0.8833\n",
      "Epoch 18/30\n",
      "100/100 [==============================] - 13s 128ms/step - loss: 0.3387 - accuracy: 0.8916 - val_loss: 0.3482 - val_accuracy: 0.8906\n",
      "Epoch 19/30\n",
      "100/100 [==============================] - 13s 127ms/step - loss: 0.3323 - accuracy: 0.8933 - val_loss: 0.3509 - val_accuracy: 0.8893\n",
      "Epoch 20/30\n",
      "100/100 [==============================] - 12s 122ms/step - loss: 0.3287 - accuracy: 0.8959 - val_loss: 0.3515 - val_accuracy: 0.8873\n",
      "Epoch 21/30\n",
      "100/100 [==============================] - 12s 122ms/step - loss: 0.3262 - accuracy: 0.8962 - val_loss: 0.3461 - val_accuracy: 0.8880\n",
      "Epoch 22/30\n",
      "100/100 [==============================] - 12s 121ms/step - loss: 0.3225 - accuracy: 0.8983 - val_loss: 0.3509 - val_accuracy: 0.8891\n",
      "Epoch 23/30\n",
      "100/100 [==============================] - 12s 120ms/step - loss: 0.3139 - accuracy: 0.9019 - val_loss: 0.3387 - val_accuracy: 0.8924\n",
      "Epoch 24/30\n",
      "100/100 [==============================] - 12s 121ms/step - loss: 0.3145 - accuracy: 0.9015 - val_loss: 0.3361 - val_accuracy: 0.8932\n",
      "Epoch 25/30\n",
      "100/100 [==============================] - 12s 123ms/step - loss: 0.3140 - accuracy: 0.9016 - val_loss: 0.3481 - val_accuracy: 0.8913\n",
      "Epoch 26/30\n",
      "100/100 [==============================] - 13s 127ms/step - loss: 0.3100 - accuracy: 0.9026 - val_loss: 0.3444 - val_accuracy: 0.8868\n",
      "Epoch 27/30\n",
      "100/100 [==============================] - 12s 123ms/step - loss: 0.3082 - accuracy: 0.9036 - val_loss: 0.3438 - val_accuracy: 0.8909\n",
      "Epoch 28/30\n",
      "100/100 [==============================] - 12s 120ms/step - loss: 0.3009 - accuracy: 0.9062 - val_loss: 0.3424 - val_accuracy: 0.8954\n",
      "Epoch 29/30\n",
      "100/100 [==============================] - 12s 123ms/step - loss: 0.3039 - accuracy: 0.9051 - val_loss: 0.3491 - val_accuracy: 0.8940\n",
      "Epoch 30/30\n",
      "100/100 [==============================] - 12s 116ms/step - loss: 0.2992 - accuracy: 0.9066 - val_loss: 0.3447 - val_accuracy: 0.8949\n",
      "Epoch 1/30\n",
      "100/100 [==============================] - 13s 133ms/step - loss: 1.4235 - accuracy: 0.4963 - val_loss: 0.7144 - val_accuracy: 0.7631\n",
      "Epoch 2/30\n",
      "100/100 [==============================] - 13s 129ms/step - loss: 0.8045 - accuracy: 0.7277 - val_loss: 0.5642 - val_accuracy: 0.8046\n",
      "Epoch 3/30\n",
      "100/100 [==============================] - 13s 127ms/step - loss: 0.6821 - accuracy: 0.7761 - val_loss: 0.5070 - val_accuracy: 0.8349\n",
      "Epoch 4/30\n",
      "100/100 [==============================] - 12s 125ms/step - loss: 0.6258 - accuracy: 0.7994 - val_loss: 0.4902 - val_accuracy: 0.8407\n",
      "Epoch 5/30\n",
      "100/100 [==============================] - 13s 126ms/step - loss: 0.5914 - accuracy: 0.8121 - val_loss: 0.4673 - val_accuracy: 0.8438\n",
      "Epoch 6/30\n",
      "100/100 [==============================] - 13s 128ms/step - loss: 0.5669 - accuracy: 0.8210 - val_loss: 0.4507 - val_accuracy: 0.8540\n",
      "Epoch 7/30\n",
      "100/100 [==============================] - 13s 128ms/step - loss: 0.5556 - accuracy: 0.8252 - val_loss: 0.4412 - val_accuracy: 0.8552\n",
      "Epoch 8/30\n",
      "100/100 [==============================] - 13s 128ms/step - loss: 0.5361 - accuracy: 0.8297 - val_loss: 0.4314 - val_accuracy: 0.8582\n",
      "Epoch 9/30\n",
      "100/100 [==============================] - 12s 121ms/step - loss: 0.5225 - accuracy: 0.8337 - val_loss: 0.4333 - val_accuracy: 0.8560\n",
      "Epoch 10/30\n",
      "100/100 [==============================] - 13s 126ms/step - loss: 0.5143 - accuracy: 0.8378 - val_loss: 0.4219 - val_accuracy: 0.8632\n",
      "Epoch 11/30\n",
      "100/100 [==============================] - 13s 128ms/step - loss: 0.5079 - accuracy: 0.8384 - val_loss: 0.4204 - val_accuracy: 0.8637\n",
      "Epoch 12/30\n",
      "100/100 [==============================] - 12s 120ms/step - loss: 0.4986 - accuracy: 0.8397 - val_loss: 0.4124 - val_accuracy: 0.8617\n",
      "Epoch 13/30\n",
      "100/100 [==============================] - 12s 122ms/step - loss: 0.4907 - accuracy: 0.8441 - val_loss: 0.4087 - val_accuracy: 0.8649\n",
      "Epoch 14/30\n",
      "100/100 [==============================] - 12s 121ms/step - loss: 0.4838 - accuracy: 0.8475 - val_loss: 0.4130 - val_accuracy: 0.8644\n",
      "Epoch 15/30\n",
      "100/100 [==============================] - 12s 118ms/step - loss: 0.4788 - accuracy: 0.8487 - val_loss: 0.4064 - val_accuracy: 0.8667\n",
      "Epoch 16/30\n",
      "100/100 [==============================] - 12s 120ms/step - loss: 0.4735 - accuracy: 0.8508 - val_loss: 0.4013 - val_accuracy: 0.8699\n",
      "Epoch 17/30\n",
      "100/100 [==============================] - 12s 118ms/step - loss: 0.4681 - accuracy: 0.8518 - val_loss: 0.4024 - val_accuracy: 0.8710\n",
      "Epoch 18/30\n",
      "100/100 [==============================] - 12s 119ms/step - loss: 0.4682 - accuracy: 0.8524 - val_loss: 0.3997 - val_accuracy: 0.8698\n",
      "Epoch 19/30\n",
      "100/100 [==============================] - 12s 125ms/step - loss: 0.4596 - accuracy: 0.8557 - val_loss: 0.4049 - val_accuracy: 0.8652\n",
      "Epoch 20/30\n",
      "100/100 [==============================] - 12s 117ms/step - loss: 0.4571 - accuracy: 0.8567 - val_loss: 0.3928 - val_accuracy: 0.8727\n",
      "Epoch 21/30\n",
      "100/100 [==============================] - 12s 119ms/step - loss: 0.4558 - accuracy: 0.8582 - val_loss: 0.3929 - val_accuracy: 0.8734\n",
      "Epoch 22/30\n",
      "100/100 [==============================] - 12s 122ms/step - loss: 0.4535 - accuracy: 0.8562 - val_loss: 0.3982 - val_accuracy: 0.8678\n",
      "Epoch 23/30\n",
      "100/100 [==============================] - 12s 124ms/step - loss: 0.4432 - accuracy: 0.8597 - val_loss: 0.3919 - val_accuracy: 0.8720\n",
      "Epoch 24/30\n",
      "100/100 [==============================] - 12s 122ms/step - loss: 0.4423 - accuracy: 0.8588 - val_loss: 0.3922 - val_accuracy: 0.8743\n",
      "Epoch 25/30\n",
      "100/100 [==============================] - 13s 128ms/step - loss: 0.4458 - accuracy: 0.8582 - val_loss: 0.3895 - val_accuracy: 0.8712\n",
      "Epoch 26/30\n",
      "100/100 [==============================] - 13s 127ms/step - loss: 0.4436 - accuracy: 0.8592 - val_loss: 0.3887 - val_accuracy: 0.8780\n",
      "Epoch 27/30\n",
      "100/100 [==============================] - 13s 129ms/step - loss: 0.4474 - accuracy: 0.8578 - val_loss: 0.3883 - val_accuracy: 0.8734\n",
      "Epoch 28/30\n",
      "100/100 [==============================] - 12s 120ms/step - loss: 0.4407 - accuracy: 0.8608 - val_loss: 0.3891 - val_accuracy: 0.8733\n",
      "Epoch 29/30\n",
      "100/100 [==============================] - 13s 129ms/step - loss: 0.4330 - accuracy: 0.8625 - val_loss: 0.3927 - val_accuracy: 0.8743\n",
      "Epoch 30/30\n",
      "100/100 [==============================] - 12s 116ms/step - loss: 0.4385 - accuracy: 0.8602 - val_loss: 0.3902 - val_accuracy: 0.8727\n"
     ]
    }
   ],
   "source": [
    "#my own coed starts here\n",
    "#neurons in each layer\n",
    "neuronsInLayer = 128\n",
    "#L2 Regularization in each layer\n",
    "l2Rate = 0.0001\n",
    "eachModel = 0\n",
    "#list of different drop out rates\n",
    "dropOutRate = [0,0.2,0.5]\n",
    "#samples separated for validation\n",
    "validationSplit = 9000\n",
    "dropRateCheckModel = []\n",
    "\n",
    "#loop over dropOutRate and call fucntion that has model for different drop out rates\n",
    "for i in dropOutRate:\n",
    "    eachModel = deepModel(trainingImages, trainingLabels, validationSplit, neuronsInLayer, l2Rate, i)\n",
    "    dropRateCheckModel.append(eachModel)\n",
    "    \n",
    "# my own code ends here"
   ]
  },
  {
   "cell_type": "markdown",
   "metadata": {},
   "source": [
    "<div class=\"alert alert-block alert-info\">\n",
    "Now let's check the viusalizations\n",
    "</div>"
   ]
  },
  {
   "cell_type": "code",
   "execution_count": 29,
   "metadata": {},
   "outputs": [
    {
     "data": {
      "image/png": "[encoded data removed]",
      "text/plain": [
       "<Figure size 1512x864 with 6 Axes>"
      ]
     },
     "metadata": {
      "needs_background": "light"
     },
     "output_type": "display_data"
    }
   ],
   "source": [
    "#my own code starts here\n",
    "dropRateTitles = ['val loss of 0 Drop Rate', 'val loss of 0.2 Drop Rate', 'val loss of 0.5 Drop Rate',\n",
    "                   'val acc of 0 Drop Rate', 'val acc of 0.2 Drop Rate', 'val acc of 0.5 Drop Rate']\n",
    "getVisuals(dropRateCheckModel, dropRateTitles)\n",
    "#my own code ends here"
   ]
  },
  {
   "cell_type": "markdown",
   "metadata": {},
   "source": [
    "<div class=\"alert alert-block alert-success\">\n",
    "    <b>Validation Loss: </b>The overfitting is more reduced by applying different dropout rates but again applying more drop out rate 0.5 compromises the loss function as it goes higher to arround minimum loss around 0.38-0.39. In drop out rate 0.2 graph the minimum loss isaround 0.34. The model with 0 dropout rate has around 0.35 as lowest validation loss. The model with drop out rate has much less noise compare to other models as you can see the plot is much more smoother although the minimum validation loss is high compared to other models but it's not very high.\n",
    "    <br><br><b>Validation Accuracy: </b>Again the model with 0.5 drop out rate has much less noise and the highest accuracy is almost the same\n",
    "    \n",
    "So accrding to the analysis we've chosen 0.5 as drop out rate as it shows the least sign of overfitting, has much less nosie, although has higher minimum loss but not very significantly high\n",
    "</div>"
   ]
  },
  {
   "cell_type": "markdown",
   "metadata": {},
   "source": [
    "<div class=\"alert alert-block alert-info\">\n",
    "<h4> Trying Different Learning Rates </h4>\n",
    "<p>We selected best drop out rate  of our model in last sub-section. Now we'll look for the best learning rate. So we've used adam optimizer since the start and we have given no value for learning rate, as no value is given it uses 0.0001 default learning rate. In the quest of furhter improving the model we will now apply 2 more learning rate 0.01 and 0.1 and compare it with original 0.001. We'll select the best learning rate and this will be our final step for this section.\n",
    "    \n",
    "We'll have to update our function so besides other parameters it takes in another parameter for different learning rates. Let's do it first</p></div>"
   ]
  },
  {
   "cell_type": "code",
   "execution_count": 30,
   "metadata": {},
   "outputs": [],
   "source": [
    "#my own code starts here\n",
    "from tensorflow.keras import models, layers, regularizers, optimizers\n",
    "\n",
    "def createNetwork(neuronsInLayer, l2Rate, dropOutRate):\n",
    "    '''Create network based of 4 layers each with neurons number accoring to parameter and last layer with 10 neurons.\n",
    "    Also applies l2 reguularization and dropout\n",
    "    parameters: None\n",
    "    Output: Returns a created network\n",
    "    '''    \n",
    "    network = models.Sequential()\n",
    "    network.add(layers.Dense(neuronsInLayer, kernel_regularizer=regularizers.l2(l2Rate), \n",
    "                             activation='relu', input_shape=(28 * 28, )))\n",
    "    network.add(layers.Dropout(dropOutRate))\n",
    "    network.add(layers.Dense(neuronsInLayer, kernel_regularizer=regularizers.l2(l2Rate), activation='relu'))\n",
    "    network.add(layers.Dropout(dropOutRate))\n",
    "    network.add(layers.Dense(neuronsInLayer, kernel_regularizer=regularizers.l2(l2Rate), activation='relu'))\n",
    "    network.add(layers.Dropout(dropOutRate))\n",
    "    network.add(layers.Dense(10, activation='softmax'))\n",
    "    return network\n",
    "\n",
    "def splitValidationData(trainData, trainLabels, validationSplit):\n",
    "    '''Function that separates data into validation and training on the basis of certain threshold\n",
    "    Parameters: trainData: The training data, trainLabels: Training labels, validationSplit: The number of \n",
    "    samples to be splitted.\n",
    "    Output: Returns 4 numpy arrays of spltted training labels and training data\n",
    "    '''\n",
    "    #validation\n",
    "    x_val = trainData[:validationSplit]\n",
    "    partial_x_train = trainData[validationSplit:]\n",
    "    y_val = trainLabels[:validationSplit]\n",
    "    partial_y_train = trainLabels[validationSplit:]\n",
    "    \n",
    "    return x_val, partial_x_train, y_val, partial_y_train\n",
    "\n",
    "def deepModel(trainData, trainLabels, validationSplit = 9000, neuronsInLayer = 512, l2Rate = 0, dropOutRate = 0, \n",
    "              learningRate = 0.001):\n",
    "    '''Function trains a model for 30 epochs on the basis of training data and labels, uses l2 rate and dropout \n",
    "    to avoid overfitting. also can have different network capacity and learning rates based on parameters\n",
    "    Parameters: trainData: The training data, trainLabels: Training labels, validationSplit(optional): The number of \n",
    "    samples to be splitted, neuronsInLayer: No. of neurons in each layer except last, l2Rate: l2 rate to be applied,\n",
    "    dropOutRate: drop out to be applied, learning rate: learning rate of the optimizer to be applied\n",
    "\n",
    "    Output: Returns a history object containing different metrics of how the model performed\n",
    "    '''    \n",
    "\n",
    "    network = createNetwork(neuronsInLayer, l2Rate, dropOutRate)\n",
    "    \n",
    "    optimizer = optimizers.Adam(learning_rate=learningRate)\n",
    "    network.compile(optimizer=optimizer,\n",
    "                   loss='categorical_crossentropy', \n",
    "                   metrics=['accuracy'])\n",
    "\n",
    "    x_val, partial_x_train, y_val, partial_y_train = splitValidationData(trainData, trainLabels, validationSplit)\n",
    "\n",
    "    history = network.fit(partial_x_train, \n",
    "                        partial_y_train,\n",
    "                        epochs = 30,\n",
    "                        batch_size = 512,\n",
    "                        validation_data = (x_val, y_val))# evaluate on the test set\n",
    "    \n",
    "    return history.history\n",
    "\n",
    "#my own code ends here"
   ]
  },
  {
   "cell_type": "markdown",
   "metadata": {},
   "source": [
    "<div class=\"alert alert-block alert-info\">\n",
    "Now let's call the function with different learning rates</div>"
   ]
  },
  {
   "cell_type": "code",
   "execution_count": 31,
   "metadata": {
    "scrolled": false
   },
   "outputs": [
    {
     "name": "stdout",
     "output_type": "stream",
     "text": [
      "Epoch 1/30\n",
      "100/100 [==============================] - 14s 137ms/step - loss: 1.4527 - accuracy: 0.4727 - val_loss: 0.7356 - val_accuracy: 0.7493\n",
      "Epoch 2/30\n",
      "100/100 [==============================] - 13s 133ms/step - loss: 0.8129 - accuracy: 0.7183 - val_loss: 0.5642 - val_accuracy: 0.8100\n",
      "Epoch 3/30\n",
      "100/100 [==============================] - 12s 122ms/step - loss: 0.6806 - accuracy: 0.7764 - val_loss: 0.5128 - val_accuracy: 0.8319\n",
      "Epoch 4/30\n",
      "100/100 [==============================] - 13s 125ms/step - loss: 0.6255 - accuracy: 0.7976 - val_loss: 0.4756 - val_accuracy: 0.8414\n",
      "Epoch 5/30\n",
      "100/100 [==============================] - 12s 123ms/step - loss: 0.5862 - accuracy: 0.8121 - val_loss: 0.4626 - val_accuracy: 0.8481\n",
      "Epoch 6/30\n",
      "100/100 [==============================] - 13s 126ms/step - loss: 0.5640 - accuracy: 0.8190 - val_loss: 0.4502 - val_accuracy: 0.8492\n",
      "Epoch 7/30\n",
      "100/100 [==============================] - 12s 121ms/step - loss: 0.5508 - accuracy: 0.8274 - val_loss: 0.4382 - val_accuracy: 0.8540\n",
      "Epoch 8/30\n",
      "100/100 [==============================] - 12s 116ms/step - loss: 0.5336 - accuracy: 0.8294 - val_loss: 0.4310 - val_accuracy: 0.8601\n",
      "Epoch 9/30\n",
      "100/100 [==============================] - 12s 118ms/step - loss: 0.5209 - accuracy: 0.8363 - val_loss: 0.4243 - val_accuracy: 0.8597\n",
      "Epoch 10/30\n",
      "100/100 [==============================] - 12s 120ms/step - loss: 0.5139 - accuracy: 0.8380 - val_loss: 0.4168 - val_accuracy: 0.8673\n",
      "Epoch 11/30\n",
      "100/100 [==============================] - 12s 119ms/step - loss: 0.4993 - accuracy: 0.8405 - val_loss: 0.4196 - val_accuracy: 0.8637\n",
      "Epoch 12/30\n",
      "100/100 [==============================] - 12s 122ms/step - loss: 0.5005 - accuracy: 0.8420 - val_loss: 0.4179 - val_accuracy: 0.8614\n",
      "Epoch 13/30\n",
      "100/100 [==============================] - 13s 127ms/step - loss: 0.4899 - accuracy: 0.8441 - val_loss: 0.4085 - val_accuracy: 0.8703\n",
      "Epoch 14/30\n",
      "100/100 [==============================] - 13s 132ms/step - loss: 0.4862 - accuracy: 0.8455 - val_loss: 0.4084 - val_accuracy: 0.8652\n",
      "Epoch 15/30\n",
      "100/100 [==============================] - 12s 123ms/step - loss: 0.4797 - accuracy: 0.8487 - val_loss: 0.4064 - val_accuracy: 0.8706\n",
      "Epoch 16/30\n",
      "100/100 [==============================] - 13s 129ms/step - loss: 0.4771 - accuracy: 0.8476 - val_loss: 0.4022 - val_accuracy: 0.8676\n",
      "Epoch 17/30\n",
      "100/100 [==============================] - 13s 132ms/step - loss: 0.4681 - accuracy: 0.8521 - val_loss: 0.4034 - val_accuracy: 0.8674\n",
      "Epoch 18/30\n",
      "100/100 [==============================] - 13s 133ms/step - loss: 0.4670 - accuracy: 0.8503 - val_loss: 0.3998 - val_accuracy: 0.8707\n",
      "Epoch 19/30\n",
      "100/100 [==============================] - 13s 131ms/step - loss: 0.4647 - accuracy: 0.8525 - val_loss: 0.3948 - val_accuracy: 0.8707\n",
      "Epoch 20/30\n",
      "100/100 [==============================] - 13s 127ms/step - loss: 0.4583 - accuracy: 0.8540 - val_loss: 0.4026 - val_accuracy: 0.8670\n",
      "Epoch 21/30\n",
      "100/100 [==============================] - 12s 122ms/step - loss: 0.4569 - accuracy: 0.8566 - val_loss: 0.3993 - val_accuracy: 0.8708\n",
      "Epoch 22/30\n",
      "100/100 [==============================] - 12s 122ms/step - loss: 0.4529 - accuracy: 0.8566 - val_loss: 0.3989 - val_accuracy: 0.8700\n",
      "Epoch 23/30\n",
      "100/100 [==============================] - 12s 122ms/step - loss: 0.4536 - accuracy: 0.8565 - val_loss: 0.3921 - val_accuracy: 0.8739\n",
      "Epoch 24/30\n",
      "100/100 [==============================] - 13s 132ms/step - loss: 0.4506 - accuracy: 0.8578 - val_loss: 0.3982 - val_accuracy: 0.8683\n",
      "Epoch 25/30\n",
      "100/100 [==============================] - 12s 123ms/step - loss: 0.4412 - accuracy: 0.8612 - val_loss: 0.3952 - val_accuracy: 0.8729\n",
      "Epoch 26/30\n",
      "100/100 [==============================] - 12s 124ms/step - loss: 0.4425 - accuracy: 0.8602 - val_loss: 0.3939 - val_accuracy: 0.8713\n",
      "Epoch 27/30\n",
      "100/100 [==============================] - 12s 122ms/step - loss: 0.4417 - accuracy: 0.8598 - val_loss: 0.3851 - val_accuracy: 0.8751\n",
      "Epoch 28/30\n",
      "100/100 [==============================] - 12s 124ms/step - loss: 0.4369 - accuracy: 0.8612 - val_loss: 0.3821 - val_accuracy: 0.8776\n",
      "Epoch 29/30\n",
      "100/100 [==============================] - 13s 127ms/step - loss: 0.4376 - accuracy: 0.8607 - val_loss: 0.3864 - val_accuracy: 0.8754\n",
      "Epoch 30/30\n",
      "100/100 [==============================] - 12s 121ms/step - loss: 0.4409 - accuracy: 0.8604 - val_loss: 0.3913 - val_accuracy: 0.8720\n",
      "Epoch 1/30\n",
      "100/100 [==============================] - 15s 148ms/step - loss: 1.1863 - accuracy: 0.5622 - val_loss: 0.6997 - val_accuracy: 0.7722\n",
      "Epoch 2/30\n",
      "100/100 [==============================] - 12s 124ms/step - loss: 0.8731 - accuracy: 0.6960 - val_loss: 0.6626 - val_accuracy: 0.7904\n",
      "Epoch 3/30\n",
      "100/100 [==============================] - 12s 122ms/step - loss: 0.8396 - accuracy: 0.7134 - val_loss: 0.6441 - val_accuracy: 0.7849\n",
      "Epoch 4/30\n",
      "100/100 [==============================] - 12s 120ms/step - loss: 0.8455 - accuracy: 0.7154 - val_loss: 0.6203 - val_accuracy: 0.7966\n",
      "Epoch 5/30\n",
      "100/100 [==============================] - 12s 120ms/step - loss: 0.8174 - accuracy: 0.7302 - val_loss: 0.6354 - val_accuracy: 0.7883\n",
      "Epoch 6/30\n",
      "100/100 [==============================] - 12s 121ms/step - loss: 0.8205 - accuracy: 0.7324 - val_loss: 0.6611 - val_accuracy: 0.8028\n",
      "Epoch 7/30\n",
      "100/100 [==============================] - 12s 122ms/step - loss: 0.8127 - accuracy: 0.7357 - val_loss: 0.6108 - val_accuracy: 0.8184\n",
      "Epoch 8/30\n",
      "100/100 [==============================] - 12s 119ms/step - loss: 0.8303 - accuracy: 0.7314 - val_loss: 0.6366 - val_accuracy: 0.8162\n",
      "Epoch 9/30\n",
      "100/100 [==============================] - 12s 122ms/step - loss: 0.8364 - accuracy: 0.7379 - val_loss: 0.6447 - val_accuracy: 0.8030\n",
      "Epoch 10/30\n",
      "100/100 [==============================] - 13s 127ms/step - loss: 0.8134 - accuracy: 0.7413 - val_loss: 0.6742 - val_accuracy: 0.7857\n",
      "Epoch 11/30\n",
      "100/100 [==============================] - 13s 126ms/step - loss: 0.8401 - accuracy: 0.7341 - val_loss: 0.6449 - val_accuracy: 0.8114\n",
      "Epoch 12/30\n",
      "100/100 [==============================] - 13s 126ms/step - loss: 0.8293 - accuracy: 0.7347 - val_loss: 0.6624 - val_accuracy: 0.7907\n",
      "Epoch 13/30\n",
      "100/100 [==============================] - 12s 123ms/step - loss: 0.8230 - accuracy: 0.7368 - val_loss: 0.6624 - val_accuracy: 0.7977\n",
      "Epoch 14/30\n",
      "100/100 [==============================] - 12s 124ms/step - loss: 0.8372 - accuracy: 0.7306 - val_loss: 0.7015 - val_accuracy: 0.7992\n",
      "Epoch 15/30\n",
      "100/100 [==============================] - 12s 122ms/step - loss: 0.8549 - accuracy: 0.7185 - val_loss: 0.6387 - val_accuracy: 0.8082\n",
      "Epoch 16/30\n",
      "100/100 [==============================] - 12s 123ms/step - loss: 0.8459 - accuracy: 0.7215 - val_loss: 0.6849 - val_accuracy: 0.7664\n",
      "Epoch 17/30\n",
      "100/100 [==============================] - 12s 124ms/step - loss: 0.8465 - accuracy: 0.7211 - val_loss: 0.6607 - val_accuracy: 0.8174\n",
      "Epoch 18/30\n",
      "100/100 [==============================] - 13s 128ms/step - loss: 0.8611 - accuracy: 0.7208 - val_loss: 0.6801 - val_accuracy: 0.7908\n",
      "Epoch 19/30\n",
      "100/100 [==============================] - 13s 129ms/step - loss: 0.8583 - accuracy: 0.7220 - val_loss: 0.6487 - val_accuracy: 0.8122\n",
      "Epoch 20/30\n",
      "100/100 [==============================] - 12s 120ms/step - loss: 0.8663 - accuracy: 0.7154 - val_loss: 0.6640 - val_accuracy: 0.7980\n",
      "Epoch 21/30\n",
      "100/100 [==============================] - 12s 117ms/step - loss: 0.8704 - accuracy: 0.7107 - val_loss: 0.6595 - val_accuracy: 0.8140\n",
      "Epoch 22/30\n",
      "100/100 [==============================] - 12s 118ms/step - loss: 0.8701 - accuracy: 0.7129 - val_loss: 0.6586 - val_accuracy: 0.7944\n",
      "Epoch 23/30\n",
      "100/100 [==============================] - 12s 119ms/step - loss: 0.8774 - accuracy: 0.7088 - val_loss: 0.7075 - val_accuracy: 0.7634\n",
      "Epoch 24/30\n",
      "100/100 [==============================] - 12s 119ms/step - loss: 0.8774 - accuracy: 0.7105 - val_loss: 0.6710 - val_accuracy: 0.7700\n",
      "Epoch 25/30\n",
      "100/100 [==============================] - 12s 120ms/step - loss: 0.8724 - accuracy: 0.7120 - val_loss: 0.6751 - val_accuracy: 0.7852\n",
      "Epoch 26/30\n",
      "100/100 [==============================] - 12s 122ms/step - loss: 0.8656 - accuracy: 0.7136 - val_loss: 0.6873 - val_accuracy: 0.7884\n",
      "Epoch 27/30\n",
      "100/100 [==============================] - 12s 124ms/step - loss: 0.8654 - accuracy: 0.7140 - val_loss: 0.7122 - val_accuracy: 0.7812\n",
      "Epoch 28/30\n",
      "100/100 [==============================] - 12s 120ms/step - loss: 0.8685 - accuracy: 0.7139 - val_loss: 0.6857 - val_accuracy: 0.7904\n",
      "Epoch 29/30\n",
      "100/100 [==============================] - 12s 123ms/step - loss: 0.8715 - accuracy: 0.7132 - val_loss: 0.6903 - val_accuracy: 0.8103\n",
      "Epoch 30/30\n",
      "100/100 [==============================] - 12s 118ms/step - loss: 0.8639 - accuracy: 0.7134 - val_loss: 0.6707 - val_accuracy: 0.7999\n",
      "Epoch 1/30\n",
      "100/100 [==============================] - 14s 141ms/step - loss: 5.1061 - accuracy: 0.1455 - val_loss: 3.2330 - val_accuracy: 0.1378\n",
      "Epoch 2/30\n",
      "100/100 [==============================] - 13s 125ms/step - loss: 3.4252 - accuracy: 0.1079 - val_loss: 3.1468 - val_accuracy: 0.0980\n",
      "Epoch 3/30\n",
      "100/100 [==============================] - 13s 125ms/step - loss: 2.9632 - accuracy: 0.0998 - val_loss: 2.8062 - val_accuracy: 0.0934\n",
      "Epoch 4/30\n",
      "100/100 [==============================] - 12s 123ms/step - loss: 2.7079 - accuracy: 0.1004 - val_loss: 2.6321 - val_accuracy: 0.0977\n",
      "Epoch 5/30\n",
      "100/100 [==============================] - 13s 125ms/step - loss: 2.5779 - accuracy: 0.1015 - val_loss: 2.5354 - val_accuracy: 0.0980\n",
      "Epoch 6/30\n",
      "100/100 [==============================] - 12s 123ms/step - loss: 2.5037 - accuracy: 0.0979 - val_loss: 2.4764 - val_accuracy: 0.0934\n",
      "Epoch 7/30\n",
      "100/100 [==============================] - 13s 132ms/step - loss: 2.4546 - accuracy: 0.0985 - val_loss: 2.4382 - val_accuracy: 0.0994\n",
      "Epoch 8/30\n",
      "100/100 [==============================] - 12s 122ms/step - loss: 2.4222 - accuracy: 0.1002 - val_loss: 2.4094 - val_accuracy: 0.0994\n",
      "Epoch 9/30\n",
      "100/100 [==============================] - 13s 125ms/step - loss: 2.3995 - accuracy: 0.0996 - val_loss: 2.3875 - val_accuracy: 0.1009\n",
      "Epoch 10/30\n",
      "100/100 [==============================] - 13s 128ms/step - loss: 2.3813 - accuracy: 0.0994 - val_loss: 2.3742 - val_accuracy: 0.1009\n",
      "Epoch 11/30\n",
      "100/100 [==============================] - 13s 130ms/step - loss: 2.3686 - accuracy: 0.1011 - val_loss: 2.3630 - val_accuracy: 0.1041\n",
      "Epoch 12/30\n",
      "100/100 [==============================] - 13s 127ms/step - loss: 2.3591 - accuracy: 0.1003 - val_loss: 2.3593 - val_accuracy: 0.1041\n",
      "Epoch 13/30\n",
      "100/100 [==============================] - 12s 122ms/step - loss: 2.3511 - accuracy: 0.1012 - val_loss: 2.3499 - val_accuracy: 0.0977\n",
      "Epoch 14/30\n",
      "100/100 [==============================] - 12s 119ms/step - loss: 2.3449 - accuracy: 0.1000 - val_loss: 2.3398 - val_accuracy: 0.1009\n",
      "Epoch 15/30\n",
      "100/100 [==============================] - 12s 119ms/step - loss: 2.3389 - accuracy: 0.0980 - val_loss: 2.3365 - val_accuracy: 0.1013\n",
      "Epoch 16/30\n",
      "100/100 [==============================] - 12s 121ms/step - loss: 2.3345 - accuracy: 0.0978 - val_loss: 2.3327 - val_accuracy: 0.1013\n",
      "Epoch 17/30\n",
      "100/100 [==============================] - 12s 116ms/step - loss: 2.3309 - accuracy: 0.1005 - val_loss: 2.3269 - val_accuracy: 0.1009\n",
      "Epoch 18/30\n",
      "100/100 [==============================] - 12s 124ms/step - loss: 2.3277 - accuracy: 0.0997 - val_loss: 2.3255 - val_accuracy: 0.0934\n",
      "Epoch 19/30\n",
      "100/100 [==============================] - 12s 121ms/step - loss: 2.3252 - accuracy: 0.0995 - val_loss: 2.3266 - val_accuracy: 0.0980\n",
      "Epoch 20/30\n",
      "100/100 [==============================] - 12s 124ms/step - loss: 2.3231 - accuracy: 0.1007 - val_loss: 2.3200 - val_accuracy: 0.1009\n",
      "Epoch 21/30\n",
      "100/100 [==============================] - 13s 128ms/step - loss: 2.3198 - accuracy: 0.1007 - val_loss: 2.3181 - val_accuracy: 0.0980\n",
      "Epoch 22/30\n",
      "100/100 [==============================] - 13s 133ms/step - loss: 2.3177 - accuracy: 0.0988 - val_loss: 2.3163 - val_accuracy: 0.1020\n",
      "Epoch 23/30\n",
      "100/100 [==============================] - 12s 124ms/step - loss: 2.3169 - accuracy: 0.0981 - val_loss: 2.3167 - val_accuracy: 0.1009\n",
      "Epoch 24/30\n",
      "100/100 [==============================] - 12s 122ms/step - loss: 2.3152 - accuracy: 0.0998 - val_loss: 2.3162 - val_accuracy: 0.1020\n",
      "Epoch 25/30\n",
      "100/100 [==============================] - 12s 120ms/step - loss: 2.3146 - accuracy: 0.1004 - val_loss: 2.3116 - val_accuracy: 0.0977\n",
      "Epoch 26/30\n",
      "100/100 [==============================] - 12s 121ms/step - loss: 2.3132 - accuracy: 0.0989 - val_loss: 2.3146 - val_accuracy: 0.1041\n",
      "Epoch 27/30\n",
      "100/100 [==============================] - 12s 119ms/step - loss: 2.3130 - accuracy: 0.1001 - val_loss: 2.3108 - val_accuracy: 0.1013\n",
      "Epoch 28/30\n",
      "100/100 [==============================] - 12s 122ms/step - loss: 2.3109 - accuracy: 0.0990 - val_loss: 2.3087 - val_accuracy: 0.1009\n",
      "Epoch 29/30\n",
      "100/100 [==============================] - 13s 127ms/step - loss: 2.3100 - accuracy: 0.0999 - val_loss: 2.3090 - val_accuracy: 0.1013\n",
      "Epoch 30/30\n",
      "100/100 [==============================] - 11s 113ms/step - loss: 2.3099 - accuracy: 0.0984 - val_loss: 2.3075 - val_accuracy: 0.0977\n"
     ]
    }
   ],
   "source": [
    "#my own code starts here\n",
    "#number of neurons in each layer\n",
    "neuronsInLayer = 128\n",
    "#L@ regularization rate \n",
    "l2Rate = 0.0001\n",
    "eachModel = 0\n",
    "#Drop out rate\n",
    "dropOutRate = 0.5\n",
    "#Sample separated for validation\n",
    "validationSplit = 9000\n",
    "#Different learning rates for optimizer\n",
    "learningRates = [0.001, 0.01, 0.1]\n",
    "#0.001 is default learn rate\n",
    "learnRateCheckModel = []\n",
    "\n",
    "#Loop over learningRates list and call function for different learning rates\n",
    "for i in learningRates:\n",
    "    eachModel = deepModel(trainingImages, trainingLabels, validationSplit, neuronsInLayer, l2Rate, dropOutRate, i)\n",
    "    learnRateCheckModel.append(eachModel)\n",
    "        \n",
    "my own code ends here"
   ]
  },
  {
   "cell_type": "markdown",
   "metadata": {},
   "source": [
    "<div class=\"alert alert-block alert-info\">\n",
    "Now let's check the viusalizations\n",
    "</div>"
   ]
  },
  {
   "cell_type": "code",
   "execution_count": 32,
   "metadata": {},
   "outputs": [
    {
     "data": {
      "image/png": "[encoded data removed]",
      "text/plain": [
       "<Figure size 1512x864 with 6 Axes>"
      ]
     },
     "metadata": {
      "needs_background": "light"
     },
     "output_type": "display_data"
    }
   ],
   "source": [
    "#my own code starts here\n",
    "#List containig titles of each graphs\n",
    "learnRateTitles = ['val loss of default 0.001 Learning Rate', 'val loss of 0.01 Learning Rate', \n",
    "                  'val loss of default 0.1 Learning Rate',\n",
    "                   'val accuracy of default 0.001 Learning Rate', 'val accuracy of default 0.01 Learning Rate',\n",
    "                 'val accuracy of default 0.1 Learning Rate']\n",
    "#function call to show visualizations\n",
    "getVisuals(learnRateCheckModel, learnRateTitles)\n",
    "#my own code ends here"
   ]
  },
  {
   "cell_type": "markdown",
   "metadata": {},
   "source": [
    "<div class=\"alert alert-block alert-success\">\n",
    "<b>Validation loss: </b> The model with 0.01 learning rate has very volatile plot and so much noise in data and overfit almost immediately. Model with 0.1 learning rate shows no signs of overfitting but the validation loss is very high as minimum loss is around 2.2. The best case here is our original model with 0.001 learning rate it shows little over fitting that too very late and has low minimum validation loss.\n",
    "\n",
    "<b>Validation Accuracy: </b> Again the model with 0.01 learning rate is very noise and overfits imeediately. The model with 0.1 overfits from start with accuracy decrease from the start. The best model again is the orginal model with 0.001 default learning rate as it has less no, Less overfitting.\n",
    "    \n",
    "So we've chosen to go with our orgininal learning rate 0.001\n",
    "</div>"
   ]
  },
  {
   "cell_type": "markdown",
   "metadata": {},
   "source": [
    "### Early Stopping at 27 epochs"
   ]
  },
  {
   "cell_type": "markdown",
   "metadata": {},
   "source": [
    "<div class=\"alert alert-block alert-info\">\n",
    "As you can see we've applied many techniques to overcome overfitting and we've succeeded in it. But as we notce our model start to show overfitting or signs of overfitting after 27th epoch. So now we'll be applying the Early Stopping technqiue to train the model till the number of epochs overfitting does not start. In our case we will not train our model till the 27th Epoch as overfitting begins from there    \n",
    "</div>"
   ]
  },
  {
   "cell_type": "markdown",
   "metadata": {},
   "source": [
    "<div class=\"alert alert-block alert-success\">\n",
    "We're done with this section now and in the next section we'll create a model from scratch. We've acquired the best options and hypermpaprameters that in this section, so we'll use it in that model and after training we will evaluate our model's performance on the testing data."
   ]
  },
  {
   "cell_type": "markdown",
   "metadata": {},
   "source": [
    "## Final Model"
   ]
  },
  {
   "cell_type": "markdown",
   "metadata": {},
   "source": [
    "<div class=\"alert alert-block alert-info\">\n",
    "In this section we will create a model from scratch and evaluate on the test data. So in this final model we will use 3 relu activated 128 number of neurons dense layer and last 10 neuron softmax activated dense layer. Every alternate layer will be a dropout layer with dropout rate of 0.5 except for the last layer. We'll be using L2 regularization for relu activated layers with l2 rate of 0.0001. We use 0.001 learning rate for our 'Adam' optimizer. We use accuracy as measure of success and categorical_crossentropy as loss function. Our bathc size is 512 and we'll train the model for 27 epochs.\n",
    "</div>"
   ]
  },
  {
   "cell_type": "markdown",
   "metadata": {},
   "source": [
    "<div class=\"alert alert-block alert-info\">\n",
    "Now let's create a final model\n",
    "</div>"
   ]
  },
  {
   "cell_type": "code",
   "execution_count": 35,
   "metadata": {},
   "outputs": [],
   "source": [
    "#my own code starts here\n",
    "from tensorflow.keras import models, layers, regularizers, optimizers\n",
    "\n",
    "def createNetwork(neuronsInLayer, l2Rate, dropOutRate):\n",
    "    '''Create network based of 4 layers each with neurons number accoring to parameter and last layer with 10 neurons.\n",
    "    Also applies l2 reguularization and dropout\n",
    "    parameters: None\n",
    "    Output: Returns a created network\n",
    "    '''    \n",
    "    network = models.Sequential()\n",
    "    network.add(layers.Dense(neuronsInLayer, kernel_regularizer=regularizers.l2(l2Rate), \n",
    "                             activation='relu', input_shape=(28 * 28, )))\n",
    "    network.add(layers.Dropout(dropOutRate))\n",
    "    network.add(layers.Dense(neuronsInLayer, kernel_regularizer=regularizers.l2(l2Rate), activation='relu'))\n",
    "    network.add(layers.Dropout(dropOutRate))\n",
    "    network.add(layers.Dense(neuronsInLayer, kernel_regularizer=regularizers.l2(l2Rate), activation='relu'))\n",
    "    network.add(layers.Dropout(dropOutRate))\n",
    "    network.add(layers.Dense(10, activation='softmax'))\n",
    "    return network\n",
    "\n",
    "def FinalDeepModel(trainData, trainLabels, testData, testLabels, neuronsInLayer = 128, l2Rate = 0.01,\n",
    "                   dropOutRate = 0.5, learningRate = 0.001):\n",
    "    \n",
    "    '''Function trains a model for 27 epochs on the basis of training data and labels, uses l2 rate and dropout \n",
    "    to avoid overfitting. also can have different network capacity and learning rates based on parameters\n",
    "    Parameters: trainData: The training data, trainLabels: Training labels, neuronsInLayer: No. of neurons in each layer except last, l2Rate: l2 rate to be applied,\n",
    "    dropOutRate: drop out to be applied, learning rate: learning rate of the optimizer to be applied, testData and\n",
    "    train data: the parameters that have data which will be used to check how model performed\n",
    "\n",
    "    Output: Returns list with accuracy and loss of how the model performed on test data\n",
    "    '''        \n",
    "\n",
    "    network = createNetwork2(neuronsInLayer, l2Rate, dropOutRate)\n",
    "    \n",
    "    optimizer = optimizers.Adam(learning_rate=learningRate)\n",
    "    network.compile(optimizer=optimizer,\n",
    "                   loss='categorical_crossentropy', \n",
    "                   metrics=['accuracy'])\n",
    "\n",
    "\n",
    "    network.fit(trainData, trainLabels,\n",
    "                        epochs = 27,\n",
    "                        batch_size = 512)\n",
    "    \n",
    "    results = network.evaluate(testData, testLabels)\n",
    "    \n",
    "    return results\n",
    "#my own code ends here"
   ]
  },
  {
   "cell_type": "markdown",
   "metadata": {},
   "source": [
    "<div class=\"alert alert-block alert-success\">\n",
    "Let's run and evaluate the model</div>"
   ]
  },
  {
   "cell_type": "code",
   "execution_count": 36,
   "metadata": {},
   "outputs": [
    {
     "name": "stdout",
     "output_type": "stream",
     "text": [
      "Epoch 1/27\n",
      "118/118 [==============================] - 15s 124ms/step - loss: 1.3436 - accuracy: 0.5264\n",
      "Epoch 2/27\n",
      "118/118 [==============================] - 14s 116ms/step - loss: 0.7628 - accuracy: 0.7412\n",
      "Epoch 3/27\n",
      "118/118 [==============================] - 13s 114ms/step - loss: 0.6609 - accuracy: 0.7876\n",
      "Epoch 4/27\n",
      "118/118 [==============================] - 15s 126ms/step - loss: 0.6044 - accuracy: 0.8080\n",
      "Epoch 5/27\n",
      "118/118 [==============================] - 14s 118ms/step - loss: 0.5690 - accuracy: 0.8186\n",
      "Epoch 6/27\n",
      "118/118 [==============================] - 14s 120ms/step - loss: 0.5544 - accuracy: 0.8232\n",
      "Epoch 7/27\n",
      "118/118 [==============================] - 14s 121ms/step - loss: 0.5376 - accuracy: 0.8285\n",
      "Epoch 8/27\n",
      "118/118 [==============================] - 13s 114ms/step - loss: 0.5282 - accuracy: 0.8358\n",
      "Epoch 9/27\n",
      "118/118 [==============================] - 13s 114ms/step - loss: 0.5089 - accuracy: 0.8387\n",
      "Epoch 10/27\n",
      "118/118 [==============================] - 13s 114ms/step - loss: 0.5040 - accuracy: 0.8410\n",
      "Epoch 11/27\n",
      "118/118 [==============================] - 14s 114ms/step - loss: 0.4952 - accuracy: 0.8435\n",
      "Epoch 12/27\n",
      "118/118 [==============================] - 15s 125ms/step - loss: 0.4875 - accuracy: 0.8453\n",
      "Epoch 13/27\n",
      "118/118 [==============================] - 13s 114ms/step - loss: 0.4854 - accuracy: 0.8447\n",
      "Epoch 14/27\n",
      "118/118 [==============================] - 15s 125ms/step - loss: 0.4789 - accuracy: 0.8477\n",
      "Epoch 15/27\n",
      "118/118 [==============================] - 14s 117ms/step - loss: 0.4722 - accuracy: 0.8514\n",
      "Epoch 16/27\n",
      "118/118 [==============================] - 13s 113ms/step - loss: 0.4691 - accuracy: 0.8520\n",
      "Epoch 17/27\n",
      "118/118 [==============================] - 13s 114ms/step - loss: 0.4616 - accuracy: 0.8536\n",
      "Epoch 18/27\n",
      "118/118 [==============================] - 13s 112ms/step - loss: 0.4629 - accuracy: 0.8538\n",
      "Epoch 19/27\n",
      "118/118 [==============================] - 14s 119ms/step - loss: 0.4612 - accuracy: 0.8539\n",
      "Epoch 20/27\n",
      "118/118 [==============================] - 15s 125ms/step - loss: 0.4547 - accuracy: 0.8563\n",
      "Epoch 21/27\n",
      "118/118 [==============================] - 14s 117ms/step - loss: 0.4541 - accuracy: 0.8571\n",
      "Epoch 22/27\n",
      "118/118 [==============================] - 13s 114ms/step - loss: 0.4454 - accuracy: 0.8585\n",
      "Epoch 23/27\n",
      "118/118 [==============================] - 14s 114ms/step - loss: 0.4507 - accuracy: 0.8559\n",
      "Epoch 24/27\n",
      "118/118 [==============================] - 13s 114ms/step - loss: 0.4414 - accuracy: 0.8616\n",
      "Epoch 25/27\n",
      "118/118 [==============================] - 13s 114ms/step - loss: 0.4439 - accuracy: 0.8600\n",
      "Epoch 26/27\n",
      "118/118 [==============================] - 14s 118ms/step - loss: 0.4453 - accuracy: 0.8599\n",
      "Epoch 27/27\n",
      "118/118 [==============================] - 13s 112ms/step - loss: 0.4378 - accuracy: 0.8623\n",
      "313/313 [==============================] - 1s 3ms/step - loss: 0.4076 - accuracy: 0.8721\n"
     ]
    }
   ],
   "source": [
    "#my own code starts here\n",
    "\n",
    "#number of neurons in each layer\n",
    "neuronsInLayer = 128\n",
    "#L2 regularization Rate\n",
    "l2Rate = 0.0001\n",
    "#drop out rate\n",
    "dropOutRate = 0.5\n",
    "#learning rate for optimizer\n",
    "learnRate = 0.001\n",
    "\n",
    "#function call\n",
    "modelResults = FinalDeepModel(trainingImages, trainingLabels,  testingImages, testingLabels, neuronsInLayer, l2Rate, \n",
    "                         dropOutRate, learnRate)\n",
    "\n",
    "#my own code ends here"
   ]
  },
  {
   "cell_type": "markdown",
   "metadata": {},
   "source": [
    "<div class=\"alert alert-block alert-info\">\n",
    "lets check the reuslts</div>"
   ]
  },
  {
   "cell_type": "code",
   "execution_count": 37,
   "metadata": {},
   "outputs": [
    {
     "data": {
      "text/plain": [
       "[0.40758028626441956, 0.8720999956130981]"
      ]
     },
     "execution_count": 37,
     "metadata": {},
     "output_type": "execute_result"
    }
   ],
   "source": [
    "modelResults"
   ]
  },
  {
   "cell_type": "markdown",
   "metadata": {},
   "source": [
    "<div class=\"alert alert-block alert-info\">\n",
    "lets present the results in a more readable way.\n",
    "</div>"
   ]
  },
  {
   "cell_type": "code",
   "execution_count": 40,
   "metadata": {},
   "outputs": [
    {
     "name": "stdout",
     "output_type": "stream",
     "text": [
      "\u001b[1;34m\n",
      " The model accuracy on testing Images is: 0.872 or 87.2%\n",
      "\u001b[1;34m\n",
      " The model loss on testing Images is: 0.408\n"
     ]
    }
   ],
   "source": [
    "#my own code starts here\n",
    "print(\"\\033[1;34m\\n The model accuracy on testing Images is: {:.3f} or {:.1f}%\".format(modelResults[1],\n",
    "                                                                                      modelResults[1] * 100)) \n",
    "\n",
    "print(\"\\033[1;34m\\n The model loss on testing Images is: {:.3f}\".format(modelResults[0])) \n",
    "\n",
    "#my own code ends here"
   ]
  },
  {
   "cell_type": "markdown",
   "metadata": {},
   "source": [
    "<div class=\"alert alert-block alert-success\">\n",
    "    <b>Conclusion:</b>\n",
    "<p>So our model receives an accuracy of 87.2 % on the testing image and testing labels. Which is considerbaly high and resonably good and serves our purpose right. Th eaccuracy which we received when we created the first smallest model model was 73. So we've been able to create a great model withour overfitting.</p>\n",
    "    \n",
    "The loss function the first model was 78 on testing data and we've achieved to take it down to 0.408 which is pretty great. The loss function is also considerable good and serves the purpose rightly. \n",
    "    \n",
    "So overall we've been able to create a model the performs good on training and testing data that means it is optimized for generalization. It will be able to perform on unseen data as it peerforms on training data and that is what our aim was.\n",
    "</div>"
   ]
  }
 ],
 "metadata": {
  "kernelspec": {
   "display_name": "Python 3 (ipykernel)",
   "language": "python",
   "name": "python3"
  },
  "language_info": {
   "codemirror_mode": {
    "name": "ipython",
    "version": 3
   },
   "file_extension": ".py",
   "mimetype": "text/x-python",
   "name": "python",
   "nbconvert_exporter": "python",
   "pygments_lexer": "ipython3",
   "version": "3.8.9"
  }
 },
 "nbformat": 4,
 "nbformat_minor": 2
}
